{
 "cells": [
  {
   "cell_type": "code",
   "execution_count": null,
   "metadata": {},
   "outputs": [],
   "source": [
    "#Video Section\n",
    "\n",
    "import streamlit as st\n",
    "import random\n",
    "\n",
    "def generate_video(category):\n",
    "    if category == \"Walk\":\n",
    "        videos = [\"https://www.youtube.com/watch?v=_kGESn8ArrU&pp=ygUTaG93IHRvIHByb3Blcmx5IHJ1bg%3D%3D\", \"https://www.youtube.com/watch?v=brFHyOtTwH4&pp=ygUTaG93IHRvIHByb3Blcmx5IHJ1bg%3D%3D\", \"https://www.youtube.com/watch?v=L_vZjikr5Ew&pp=ygUTaG93IHRvIHByb3Blcmx5IHJ1bg%3D%3D\"]\n",
    "    elif category == \"JumpingJack\":\n",
    "        videos = [\"https://www.youtube.com/watch?v=iSSAk4XCsRA&pp=ygUNanVtcGluZyBqYWNrcw%3D%3D\", \"https://www.youtube.com/watch?v=2J2g7XOr2i4&pp=ygUNanVtcGluZyBqYWNrcw%3D%3D\", \"https://www.youtube.com/watch?v=nGaXj3kkmrU&pp=ygUNanVtcGluZyBqYWNrcw%3D%3D\"]\n",
    "    elif category == \"PushUp\":\n",
    "        videos = [\"https://www.youtube.com/watch?v=zkU6Ok44_CI&pp=ygUOaG93IHRvIFB1c2h1cHM%3D\", \"https://www.youtube.com/shorts/y7PBQ2fYbxY\", \"https://www.youtube.com/watch?v=9-DlYB4vO4U&pp=ygUOaG93IHRvIFB1c2h1cHM%3D\"]\n",
    "    else:\n",
    "        videos = []\n",
    "\n",
    "    if videos:\n",
    "        selected_video = random.choice(videos)\n",
    "        return selected_video\n",
    "    else:\n",
    "        return None\n",
    "\n",
    "def main():\n",
    "    st.title(\"Video Generator\")\n",
    "    category = st.selectbox(\"Select a category\", (\"Walk\", \"JumpingJack\", \"PushUp\", None))\n",
    "    if st.button(\"Find your Training Partner\"):\n",
    "        if category == None:\n",
    "                st.warning(\"Unable to show Video. Please Upload a file!\")\n",
    "        else:\n",
    "            selected_video = generate_video(category)\n",
    "            if selected_video:\n",
    "                st.success(\"Trainingspartner Found!\")\n",
    "                st.video(selected_video)\n",
    "            else:\n",
    "                st.warning(\"No Video available for the selected category.\")\n",
    "    \n",
    "\n",
    "if __name__ == \"__main__\":\n",
    "    main()\n"
   ]
  }
 ],
 "metadata": {
  "language_info": {
   "name": "python"
  },
  "orig_nbformat": 4
 },
 "nbformat": 4,
 "nbformat_minor": 2
}
