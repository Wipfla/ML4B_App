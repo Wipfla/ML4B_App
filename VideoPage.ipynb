{
 "cells": [
  {
   "cell_type": "code",
   "execution_count": null,
   "metadata": {},
   "outputs": [],
   "source": [
    "#Video Section\n",
    "\n",
    "import streamlit as st\n",
    "import random\n",
    "\n",
    "def generate_playlist(category):\n",
    "    if category == \"Walk\":\n",
    "        videos = [\"walk1.mp4\", \"walk2.mp4\", \"walk3.mp4\", \"walk4.mp4\"]\n",
    "    elif category == \"JumpingJack\":\n",
    "        videos = [\"jumpingjack1.mp4\", \"jumpingjack2.mp4\", \"jumpingjack3.mp4\", \"jumpingjack4.mp4\"]\n",
    "    elif category == \"PushUp\":\n",
    "        videos = [\"pushup1.mp4\", \"pushup2.mp4\", \"pushup3.mp4\", \"pushup4.mp4\"]\n",
    "    else:\n",
    "        videos = []\n",
    "\n",
    "    if videos:\n",
    "        selected_video = random.choice(videos)\n",
    "        return selected_video\n",
    "    else:\n",
    "        return None\n",
    "\n",
    "def main():\n",
    "    st.title(\"Playlist Generator\")\n",
    "    category = st.selectbox(\"Select a category\", (\"Walk\", \"JumpingJack\", \"PushUp\", None))\n",
    "    if st.button(\"Find your Playlist\"):\n",
    "        if category == None:\n",
    "                st.warning(\"Unable to show Video. Please Upload a file!\")\n",
    "        else:\n",
    "            selected_video = generate_playlist(category)\n",
    "            if selected_video:\n",
    "                st.success(\"Playlist generated!\")\n",
    "                st.video(selected_video)\n",
    "            else:\n",
    "                st.warning(\"No Video available for the selected category.\")\n",
    "    \n",
    "\n",
    "if __name__ == \"__main__\":\n",
    "    main()\n"
   ]
  }
 ],
 "metadata": {
  "language_info": {
   "name": "python"
  },
  "orig_nbformat": 4
 },
 "nbformat": 4,
 "nbformat_minor": 2
}
