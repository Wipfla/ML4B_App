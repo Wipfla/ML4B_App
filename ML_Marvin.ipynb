{
 "cells": [
  {
   "cell_type": "code",
   "execution_count": null,
   "metadata": {},
   "outputs": [],
   "source": [
    "import pandas as pd\n",
    "import numpy as np\n",
    "import sklearn as sk\n",
    "import matplotlib.pyplot as plt\n",
    "\n",
    "#Classification with KNN\n",
    "from sklearn.neighbors import KNeighborsClassifier\n",
    "from sklearn.metrics import confusion_matrix\n",
    "from sklearn.model_selection import train_test_split\n",
    "from sklearn.metrics import accuracy_score"
   ]
  },
  {
   "cell_type": "code",
   "execution_count": null,
   "metadata": {},
   "outputs": [],
   "source": [
    "#load data frames and give them a name\n",
    "def loadDataFrames(name, pathAcc, pathGyr, pathOri):\n",
    "    df_Acc= pd.read_csv(pathAcc)\n",
    "    df_Gyr= pd.read_csv(pathGyr)\n",
    "    df_Ori= pd.read_csv(pathOri)\n",
    "    print(\"Data Frames for \" + name + \" loaded.\")\n",
    "    return df_Acc, df_Gyr, df_Ori\t    \n",
    "\n",
    "#load mixed data\n",
    "df_mixed_Acc, df_mixed_Gyr, df_mixed_Ori =loadDataFrames('mixed','data/MixedData/Accelerometer.csv', 'data/MixedData/Gyroscope.csv', 'data/MixedData/Orientation.csv')\n",
    "\n",
    "#load data frames for walking\n",
    "df_walk_Acc, df_walk_Gyr, df_walk_Ori =loadDataFrames('walking','data/NormalWalk/Accelerometer.csv', 'data/NormalWalk/Gyroscope.csv', 'data/NormalWalk/Orientation.csv')\n",
    "\n",
    "#load data frames for push ups\n",
    "df_push_Acc, df_push_Gyr, df_push_Ori =loadDataFrames('push ups','data/PushUps/Accelerometer.csv', 'data/PushUps/Gyroscope.csv', 'data/PushUps/Orientation.csv')\n",
    "\n",
    "#load data frames for jumping jacks\n",
    "df_JJ_Acc, df_JJ_Gyr, df_JJ_Ori =loadDataFrames('jumping jacks','data/JJ_rightHand/Accelerometer.csv', 'data/JJ_rightHand/Gyroscope.csv', 'data/JJ_rightHand/Orientation.csv')\n",
    "\n",
    "\n"
   ]
  },
  {
   "cell_type": "code",
   "execution_count": null,
   "metadata": {},
   "outputs": [],
   "source": [
    "df_push_Acc.head(10)\n",
    "#ggf. spalten umbennen zb. z zu z_Acc etc. \n",
    "#ggf. Spalten dropen die ich nicht brauche wie yawn, pitch, roll oder so, mal schauen wie die Daten aussehen"
   ]
  },
  {
   "cell_type": "code",
   "execution_count": null,
   "metadata": {},
   "outputs": [],
   "source": [
    "df_push_Gyr.plot(x='time', y='z', kind='line')\n",
    "df_push_Gyr.plot(x='time', y='y', kind='line')\n",
    "df_push_Gyr.plot(x='time', y='x', kind='line')"
   ]
  },
  {
   "cell_type": "code",
   "execution_count": null,
   "metadata": {},
   "outputs": [],
   "source": [
    "#Plotting Gyroscope Data\n",
    "#Function to plot Gyr Data\n",
    "def plotDataGyr(data, title):\n",
    "    plt.plot(data['time'], data['z'], color='red', marker='.')\n",
    "    plt.plot(data['time'], data['y'], color='blue', marker='.')\n",
    "    plt.plot(data['time'], data['x'], color='green', marker='.')\n",
    "    plt.xlabel('time')\n",
    "    plt.ylabel('x,y,z')\n",
    "    plt.legend(['z', 'y', 'x'])\n",
    "    plt.title(title)\n",
    "    plt.show()"
   ]
  },
  {
   "cell_type": "code",
   "execution_count": null,
   "metadata": {},
   "outputs": [],
   "source": [
    "plotDataGyr(df_mixed_Acc, 'Mixed Data')"
   ]
  },
  {
   "cell_type": "code",
   "execution_count": null,
   "metadata": {},
   "outputs": [],
   "source": [
    "#Plot Walk\n",
    "plotDataGyr(df_walk_Gyr, 'Gyroscope Walk')\n",
    "\n",
    "#Plot PushUps\n",
    "plotDataGyr(df_push_Gyr, 'Gyroscope PushUps')\n",
    "\n",
    "#Plot JumpingJacks\n",
    "plotDataGyr(df_JJ_Gyr, 'Gyroscope JumpingJacks')"
   ]
  },
  {
   "cell_type": "code",
   "execution_count": null,
   "metadata": {},
   "outputs": [],
   "source": [
    "#Plotting Accelerometer Data\n",
    "#Function to Plot Acc Data\n",
    "def plotDataAcc(data, title):\n",
    "    plt.plot(data['time'], data['z'], color='red', marker='.')\n",
    "    plt.plot(data['time'], data['y'], color='blue', marker='.')\n",
    "    plt.plot(data['time'], data['x'], color='green', marker='.')\n",
    "    plt.xlabel('time')\n",
    "    plt.ylabel('x,y,z')\n",
    "    plt.legend(['z', 'y', 'x'])\n",
    "    plt.title(title)\n",
    "    plt.show()\n",
    "\n",
    "#Plot Walk\n",
    "plotDataAcc(df_walk_Acc, 'Accelerometer Walk')\n",
    "\n",
    "#Plot PushUps\n",
    "plotDataAcc(df_push_Acc, 'Accelerometer PushUps')\n",
    "\n",
    "#Plot JumpingJacks\n",
    "plotDataAcc(df_JJ_Acc, 'Accelerometer JumpingJacks')"
   ]
  },
  {
   "cell_type": "code",
   "execution_count": null,
   "metadata": {},
   "outputs": [],
   "source": [
    "#Plotting Orientation Data\n",
    "#Function to Plot Ori Data\n",
    "def plotDataOri(data, title):\n",
    "    plt.plot(data['time'], data['qz'], color='red', marker='.')\n",
    "    plt.plot(data['time'], data['qy'], color='blue', marker='.')\n",
    "    plt.plot(data['time'], data['qx'], color='green', marker='.')\n",
    "    plt.plot(data['time'], data['qw'], color='yellow', marker='.')\n",
    "    #plt.plot(data['time'], data['roll'], color='black', marker='.')\n",
    "    plt.xlabel('time')\n",
    "    plt.ylabel('qz,qy,qx,qw,roll')\n",
    "    plt.legend(['qz', 'qy', 'qx', 'qw', 'roll'])\n",
    "    plt.title(title)\n",
    "    plt.show()\n",
    "\n",
    "#Plot Walk\n",
    "plotDataOri(df_walk_Ori, 'Orientation Walk')\n",
    "\n",
    "#Plot PushUps\n",
    "plotDataOri(df_push_Ori, 'Orientation PushUps')\n",
    "\n",
    "#Plot JumpingJacks\n",
    "plotDataOri(df_JJ_Ori, 'Orientation JumpingJacks')\n",
    "    "
   ]
  },
  {
   "cell_type": "code",
   "execution_count": null,
   "metadata": {},
   "outputs": [],
   "source": [
    "#Concat DataFrames Walk\n",
    "df_walk_Gyr.drop(['time','seconds_elapsed'], axis=1, inplace=True)\n",
    "df_walk_Ori.drop(['time','seconds_elapsed'], axis=1, inplace=True)\n",
    "df_walk = pd.concat([df_walk_Acc, df_walk_Gyr, df_walk_Ori], axis=1)"
   ]
  },
  {
   "cell_type": "code",
   "execution_count": null,
   "metadata": {},
   "outputs": [],
   "source": [
    "#Concat Mixed DataFrames\n",
    "df_mixed_Gyr.drop(['time','seconds_elapsed'], axis=1, inplace=True)\n",
    "df_mixed_Ori.drop(['time','seconds_elapsed'], axis=1, inplace=True)\n",
    "df_mixed = pd.concat([df_mixed_Acc, df_mixed_Gyr, df_mixed_Ori], axis=1)\n",
    "df_mixed.head(10)"
   ]
  },
  {
   "cell_type": "code",
   "execution_count": null,
   "metadata": {},
   "outputs": [],
   "source": [
    "df_walk.describe()\n"
   ]
  },
  {
   "cell_type": "code",
   "execution_count": null,
   "metadata": {},
   "outputs": [],
   "source": [
    "#Concat DataFrames PushUps\n",
    "df_push_Gyr.drop(['time','seconds_elapsed'], axis=1, inplace=True)\n",
    "df_push_Ori.drop(['time','seconds_elapsed'], axis=1, inplace=True)\n",
    "df_push = pd.concat([df_push_Acc, df_push_Gyr, df_push_Ori], axis=1)\n",
    "df_push.head(10)"
   ]
  },
  {
   "cell_type": "code",
   "execution_count": null,
   "metadata": {},
   "outputs": [],
   "source": [
    "#Concat DataFrames JumpingJacks\n",
    "df_JJ_Gyr.drop(['time','seconds_elapsed'], axis=1, inplace=True)\n",
    "df_JJ_Ori.drop(['time','seconds_elapsed'], axis=1, inplace=True)\n",
    "df_JJ = pd.concat([df_JJ_Acc, df_JJ_Gyr, df_JJ_Ori], axis=1)\n",
    "df_JJ.head(-20)"
   ]
  },
  {
   "cell_type": "code",
   "execution_count": null,
   "metadata": {},
   "outputs": [],
   "source": [
    "#Classification with KNN\n",
    "import pickle as pkl\n",
    "#Function to label the data\n",
    "def getData(data, label):\n",
    "    data['label'] = label\n",
    "    return data\n",
    "\n",
    "#Label Data Walk\n",
    "df_walk = getData(df_walk, 'walk')\n",
    "#df_walk.head(10)\n",
    "\n",
    "#Label Data PushUps\n",
    "df_push = getData(df_push, 'pushups')\n",
    "#df_push.head(10)\n",
    "\n",
    "#Label Data JumpingJacks\n",
    "df_JJ = getData(df_JJ, 'jumpingjacks')\n",
    "#df_JJ.head(10)\n",
    "\n",
    "\n",
    "#Concat DataFrames\n",
    "df = pd.concat([df_walk, df_push, df_JJ], axis=0)\n",
    "\n",
    "#Fill NaN Values with propagation\n",
    "df.fillna(method='ffill', inplace=True)\n",
    "df_mixed.fillna(method='ffill', inplace=True)\n",
    "\n",
    "#Split Data\n",
    "X = df.drop(['label'], axis=1)\n",
    "y = df['label']\n",
    "X_train, X_test, y_train, y_test = train_test_split(X, y, test_size=0.3)\n",
    "\n",
    "#gemischten Datensatz vlt mal testen, weiß noch nicht genau wie ich den einbauen soll\n",
    "\n",
    "\n",
    "#pickle wird benutzt um das trainierte Modell zu speichern und dann in streamlit zu laden\n",
    "#pkl.dump(knn, open('knn.pkl', 'wb'))"
   ]
  },
  {
   "cell_type": "code",
   "execution_count": 1,
   "metadata": {},
   "outputs": [
    {
     "ename": "NameError",
     "evalue": "name 'KNeighborsClassifier' is not defined",
     "output_type": "error",
     "traceback": [
      "\u001b[1;31m---------------------------------------------------------------------------\u001b[0m",
      "\u001b[1;31mNameError\u001b[0m                                 Traceback (most recent call last)",
      "Cell \u001b[1;32mIn[1], line 2\u001b[0m\n\u001b[0;32m      1\u001b[0m \u001b[39m#KNN\u001b[39;00m\n\u001b[1;32m----> 2\u001b[0m knn \u001b[39m=\u001b[39m KNeighborsClassifier(n_neighbors\u001b[39m=\u001b[39m\u001b[39m3\u001b[39m, weights\u001b[39m=\u001b[39m\u001b[39m'\u001b[39m\u001b[39mdistance\u001b[39m\u001b[39m'\u001b[39m)\n\u001b[0;32m      3\u001b[0m knn\u001b[39m.\u001b[39mfit(X_train, y_train)\n\u001b[0;32m      4\u001b[0m y_pred \u001b[39m=\u001b[39m knn\u001b[39m.\u001b[39mpredict(df_mixed)\n",
      "\u001b[1;31mNameError\u001b[0m: name 'KNeighborsClassifier' is not defined"
     ]
    }
   ],
   "source": [
    "#KNN\n",
    "knn = KNeighborsClassifier(n_neighbors=3, weights='distance')\n",
    "knn.fit(X_train, y_train)\n",
    "y_pred = knn.predict(df_mixed)\n",
    "\n",
    "#size passt noch nicht, da der ytest mehr data hat als der ypred"
   ]
  },
  {
   "cell_type": "code",
   "execution_count": null,
   "metadata": {},
   "outputs": [],
   "source": [
    "#Confusion Matrix\n",
    "cm = confusion_matrix(y_test, y_pred)\n",
    "print(cm)\n",
    "\n",
    "#Accuracy\n",
    "accuracy = accuracy_score(y_test, y_pred)\n",
    "print(accuracy)\n"
   ]
  },
  {
   "cell_type": "code",
   "execution_count": null,
   "metadata": {},
   "outputs": [],
   "source": [
    "#Label Data Mixed\n",
    "df_mixed = getData(df_mixed, 'mixed')\n",
    "#df_mixed.head(10)\n",
    "\n",
    "#Split Data Mixed\n",
    "X_mixed = df_mixed.drop(['label'], axis=1)\n",
    "y_mixed = df_mixed['label']\n",
    "X_train_mixed, X_test_mixed, y_train_mixed, y_test_mixed = train_test_split(X_mixed, y_mixed, test_size=0.3)\n",
    "\n",
    "#KNN\n",
    "knn = KNeighborsClassifier(n_neighbors=3, weights='distance')\n",
    "knn.fit(X_train, y_train)\n",
    "y_pred_mixed = knn.predict(X_test)"
   ]
  }
 ],
 "metadata": {
  "kernelspec": {
   "display_name": "ML4B-App",
   "language": "python",
   "name": "python3"
  },
  "language_info": {
   "codemirror_mode": {
    "name": "ipython",
    "version": 3
   },
   "file_extension": ".py",
   "mimetype": "text/x-python",
   "name": "python",
   "nbconvert_exporter": "python",
   "pygments_lexer": "ipython3",
   "version": "3.10.11"
  },
  "orig_nbformat": 4
 },
 "nbformat": 4,
 "nbformat_minor": 2
}
