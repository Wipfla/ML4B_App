{
 "cells": [
  {
   "attachments": {},
   "cell_type": "markdown",
   "metadata": {},
   "source": [
    "**Load Libraries**"
   ]
  },
  {
   "cell_type": "code",
   "execution_count": null,
   "metadata": {},
   "outputs": [],
   "source": [
    "import pandas as pd\n",
    "import numpy as np\n",
    "import sklearn as sk\n",
    "import matplotlib.pyplot as plt\n",
    "import pickle as pkl\n",
    "import tsfresh as tsf\n",
    "from tsfresh import extract_features\n",
    "from tsfresh.utilities.dataframe_functions import impute\n",
    "\n",
    "#Classification with KNN\n",
    "from sklearn.neighbors import KNeighborsClassifier\n",
    "from sklearn.metrics import confusion_matrix\n",
    "from sklearn.metrics import recall_score\n",
    "from sklearn.model_selection import train_test_split\n",
    "from sklearn.metrics import accuracy_score\n"
   ]
  },
  {
   "attachments": {},
   "cell_type": "markdown",
   "metadata": {},
   "source": [
    "# Data Preprocessing"
   ]
  },
  {
   "attachments": {},
   "cell_type": "markdown",
   "metadata": {},
   "source": [
    "### Define Functions"
   ]
  },
  {
   "cell_type": "code",
   "execution_count": null,
   "metadata": {},
   "outputs": [],
   "source": [
    "def loadDataFrames(name, pathAcc, pathGyr, pathOri):\n",
    "    df_Acc= pd.read_csv(pathAcc)\n",
    "    df_Gyr= pd.read_csv(pathGyr)\n",
    "    df_Ori= pd.read_csv(pathOri)\n",
    "    print(\"Data Frames for \" + name + \" loaded.\")\n",
    "    return df_Acc, df_Gyr, df_Ori\n",
    "\n",
    "def loadJsonData(name, pathJson):\n",
    "    df = pd.read_json(pathJson)\n",
    "    print(\"Data Frame for \" + name + \" loaded.\")\n",
    "    return df\t   \n",
    "\n",
    "#Concat Funktion\n",
    "def concatDataFrames(name, df_Acc, df_Gyr, df_Ori):\n",
    "  df_Gyr.drop(['time','seconds_elapsed'], axis=1, inplace=True)\n",
    "  df_Ori.drop(['time','seconds_elapsed'], axis=1, inplace=True)\n",
    "  df = pd.concat([df_Acc, df_Gyr, df_Ori], axis=1)\n",
    "  print(\"Data Frames for \" + name + \" concatenated.\")\n",
    "  return df\n",
    "\n",
    "#Function to plot Gyr Data\n",
    "def plotDataGyr(data, title):\n",
    "    plt.plot(data['time'], data['z'], color='red', marker='.')\n",
    "    plt.plot(data['time'], data['y'], color='blue', marker='.')\n",
    "    plt.plot(data['time'], data['x'], color='green', marker='.')\n",
    "    plt.xlabel('time')\n",
    "    plt.ylabel('x,y,z')\n",
    "    plt.legend(['z', 'y', 'x'])\n",
    "    plt.title(title)\n",
    "    plt.show()\n",
    "\n",
    "#Function to Plot Acc Data\n",
    "def plotDataAcc(data, title):\n",
    "    plt.plot(data['time'], data['z'], color='red', marker='.')\n",
    "    plt.plot(data['time'], data['y'], color='blue', marker='.')\n",
    "    plt.plot(data['time'], data['x'], color='green', marker='.')\n",
    "    plt.xlabel('time')\n",
    "    plt.ylabel('x,y,z')\n",
    "    plt.legend(['z', 'y', 'x'])\n",
    "    plt.title(title)\n",
    "    plt.show()\n",
    "\n",
    "#Function to Plot Ori Data\n",
    "def plotDataOri(data, title):\n",
    "    plt.plot(data['time'], data['qz'], color='red', marker='.')\n",
    "    plt.plot(data['time'], data['qy'], color='blue', marker='.')\n",
    "    plt.plot(data['time'], data['qx'], color='green', marker='.')\n",
    "    plt.plot(data['time'], data['qw'], color='yellow', marker='.')\n",
    "    #plt.plot(data['time'], data['roll'], color='black', marker='.')\n",
    "    plt.xlabel('time')\n",
    "    plt.ylabel('qz,qy,qx,qw,roll')\n",
    "    plt.legend(['qz', 'qy', 'qx', 'qw', 'roll'])\n",
    "    plt.title(title)\n",
    "    plt.show()\n",
    "\n",
    "#Clean unused Sensors\n",
    "def deleteSensorData(df):\n",
    "  notUsedSensors = ['Annotation', 'Barometer', 'Battery', 'Brightness', 'Gravity', 'Light', 'Location', 'Magnetometer', 'MagnetometerUncalibrated', 'Microphone']\n",
    "  df = df[~df['sensor'].isin(notUsedSensors)]\n",
    "  return df\n",
    "\n",
    "\n",
    "#Clean Function Json Data\n",
    "def cleanDataJson(df):\n",
    "    #Drop unused Columns\n",
    "    columns_to_drop = ['sensors', 'version','device name','recording time','platform','appVersion', 'device id', 'sampleRateMs','relativeAltitude','pressure', 'batteryLevel', 'batteryState', 'lowPowerMode','brightness', 'lux', 'bearingAccuracy', 'speedAccuracy', 'verticalAccuracy', 'horizontalAccuracy', 'speed', 'bearing','altitude', 'longitude', 'latitude']\n",
    "    columns_to_drop = list(set(columns_to_drop).intersection(df.columns))\n",
    "\n",
    "    if columns_to_drop:\n",
    "        df.drop(columns=columns_to_drop, inplace=True)\n",
    "        print(\"Spalten wurden erfolgreich entfernt.\")\n",
    "    else:\n",
    "        print(\"Keine der Spalten zum Entfernen gefunden.\")\n",
    "        #df.drop(['version','device name','recording time','platform','appVersion', 'device id', 'sampleRateMs' ], axis=1, inplace=True)\n",
    "    return df\n",
    "\n",
    "#Only use Accelometer Data\n",
    "def onlyAccData(df):\n",
    "    df = df[df['sensor'] == 'Accelerometer']\n",
    "    df = df.dropna(axis=1, how='all')\n",
    "    return df\n",
    "\n",
    "#Function to get Accelometer, Gyroscope and Orientation Data from Json in one Dataframe each\n",
    "def getSensorData(df):\n",
    "    df_Acc = df[df['sensor'] == 'Accelerometer']\n",
    "    df_Gyr = df[df['sensor'] == 'Gyroscope']\n",
    "    df_Ori = df[df['sensor'] == 'Orientation']\n",
    "    return df_Acc, df_Gyr, df_Ori"
   ]
  },
  {
   "attachments": {},
   "cell_type": "markdown",
   "metadata": {},
   "source": [
    "### Load Data and give them a name"
   ]
  },
  {
   "cell_type": "code",
   "execution_count": null,
   "metadata": {},
   "outputs": [],
   "source": [
    "#load mixed data\n",
    "df_mixed_Acc, df_mixed_Gyr, df_mixed_Ori =loadDataFrames('mixed','data/MixedData/Accelerometer.csv', 'data/MixedData/Gyroscope.csv', 'data/MixedData/Orientation.csv')\n",
    "\n",
    "##############################################################################################################\n",
    "\n",
    "#load data frames for walking\n",
    "df_walk1 = loadJsonData('walking 1', 'data/NormalWalk/NormalWalk.json')\n",
    "\n",
    "#load data walk2\n",
    "df_walk2 = loadJsonData('walking 2', 'data/Walk2/Walk2.json')\n",
    "\n",
    "#load data walk3 Alex\n",
    "df_walk3 = loadJsonData('walking 3', 'data\\Alex_Rumstehen_-2023-05-02_15-30-58.json')\n",
    "\n",
    "#load data walk4 Alex\n",
    "df_walk4 = loadJsonData('walking 4', 'data\\Alex_Rumstehen_2-2023-05-23_14-53-09.json')\n",
    "\n",
    "\n",
    "##############################################################################################################\n",
    "\n",
    "#load data frames for push ups\n",
    "df_push1 = loadJsonData('push ups 1', 'data/PushUps/PushUps.json')\n",
    "\n",
    "#load data pushups2\n",
    "df_push2 = loadJsonData('push ups 2', 'data/PushUps2/PushUps2.json')\n",
    "\n",
    "#load data pushups3 Alex\n",
    "df_push3 = loadJsonData('push ups 3', 'data/Alex_Push_Up_2-2023-05-23_15-04-54.json')\n",
    "\n",
    "#load data pushups4 Alex\n",
    "df_push4 = loadJsonData('push ups 4', 'data\\Alex_10_Liegestütz-2023-05-02_15-29-25.json')\n",
    "\n",
    "#load data pushups5 Pierre\n",
    "df_push5 = loadJsonData('push ups 5', 'data\\PushUps-pierre.json')\n",
    "\n",
    "##############################################################################################################\n",
    "\n",
    "#load data frames for jumping jacks\n",
    "df_JJ1 = loadJsonData('jumping jacks 1', 'data/JJ_rightHand/JJ1.json')\n",
    "\n",
    "#load data JJ2\n",
    "df_JJ2 = loadJsonData('jumping jacks 2', 'data/JJ2/JJ2.json')\n",
    "\n",
    "#load data JJ3 Alex\n",
    "df_JJ3 = loadJsonData('jumping jacks 3', 'data/Alex_10_Hampelmänner-2023-05-02_15-30-18.json')\n",
    "\n",
    "#load data JJ4 Pierre\n",
    "df_JJ4 = loadJsonData('jumping jacks 4', 'data/JumpingsJacks-pierre-1.json')\n",
    "\n",
    "#load data JJ5 Pierre\n",
    "df_JJ5 = loadJsonData('jumping jacks 5', 'data/JumpingsJacks-pierre-2.json')"
   ]
  },
  {
   "cell_type": "code",
   "execution_count": null,
   "metadata": {},
   "outputs": [],
   "source": [
    "#alle dataframes in eine liste \n",
    "allDf = [df_walk1, df_walk2, df_walk3, df_walk4, df_push1, df_push2, df_push3, df_push4, df_push5, df_JJ1, df_JJ2, df_JJ3, df_JJ4, df_JJ5]"
   ]
  },
  {
   "cell_type": "code",
   "execution_count": null,
   "metadata": {},
   "outputs": [],
   "source": [
    "\n",
    "#iterieren über alldf mit der funktioin cleandatajson\n",
    "for df in allDf:\n",
    "    df = cleanDataJson(df)"
   ]
  },
  {
   "attachments": {},
   "cell_type": "markdown",
   "metadata": {},
   "source": [
    "**Get the Dataframes for each Sensor**\n"
   ]
  },
  {
   "cell_type": "code",
   "execution_count": null,
   "metadata": {},
   "outputs": [],
   "source": [
    "df_walk1_Acc, df_walk1_Gyr, df_walk1_Ori = getSensorData(df_walk1)\n",
    "df_walk2_Acc, df_walk2_Gyr, df_walk2_Ori = getSensorData(df_walk2)\n",
    "df_walk3_Acc, df_walk3_Gyr, df_walk3_Ori = getSensorData(df_walk3)\n",
    "df_walk4_Acc, df_walk4_Gyr, df_walk4_Ori = getSensorData(df_walk4)\n",
    "\n",
    "df_push1_Acc, df_push1_Gyr, df_push1_Ori = getSensorData(df_push1)\n",
    "df_push2_Acc, df_push2_Gyr, df_push2_Ori = getSensorData(df_push2)\n",
    "df_push3_Acc, df_push3_Gyr, df_push3_Ori = getSensorData(df_push3)\n",
    "df_push4_Acc, df_push4_Gyr, df_push4_Ori = getSensorData(df_push4)\n",
    "df_push5_Acc, df_push5_Gyr, df_push5_Ori = getSensorData(df_push5)\n",
    "\n",
    "df_JJ1_Acc, df_JJ1_Gyr, df_JJ1_Ori = getSensorData(df_JJ1)\n",
    "df_JJ2_Acc, df_JJ2_Gyr, df_JJ2_Ori = getSensorData(df_JJ2)\n",
    "df_JJ3_Acc, df_JJ3_Gyr, df_JJ3_Ori = getSensorData(df_JJ3)\n",
    "df_JJ4_Acc, df_JJ4_Gyr, df_JJ4_Ori = getSensorData(df_JJ4)\n",
    "df_JJ5_Acc, df_JJ5_Gyr, df_JJ5_Ori = getSensorData(df_JJ5)\n"
   ]
  },
  {
   "cell_type": "code",
   "execution_count": null,
   "metadata": {},
   "outputs": [],
   "source": [
    "#alle Accelometer Dataframes in eine liste\n",
    "allAccDf = [df_walk1_Acc, df_walk2_Acc, df_walk3_Acc, df_walk4_Acc, df_push1_Acc, df_push2_Acc, df_push3_Acc, df_push4_Acc, df_push5_Acc, df_JJ1_Acc, df_JJ2_Acc, df_JJ3_Acc, df_JJ4_Acc, df_JJ5_Acc]\n",
    "\n",
    "#alle Gyroscope Dataframes in eine liste\n",
    "allGyrDf = [df_walk1_Gyr, df_walk2_Gyr, df_walk3_Gyr, df_walk4_Gyr, df_push1_Gyr, df_push2_Gyr, df_push3_Gyr, df_push4_Gyr, df_push5_Gyr, df_JJ1_Gyr, df_JJ2_Gyr, df_JJ3_Gyr, df_JJ4_Gyr, df_JJ5_Gyr]\n",
    "\n",
    "#alle Orientation Dataframes in eine liste\n",
    "allOriDf = [df_walk1_Ori, df_walk2_Ori, df_walk3_Ori, df_walk4_Ori, df_push1_Ori, df_push2_Ori, df_push3_Ori, df_push4_Ori, df_push5_Ori, df_JJ1_Ori, df_JJ2_Ori, df_JJ3_Ori, df_JJ4_Ori, df_JJ5_Ori]\n"
   ]
  },
  {
   "cell_type": "code",
   "execution_count": null,
   "metadata": {},
   "outputs": [],
   "source": [
    "#Drop all columns with nan values\n",
    "for df in allAccDf:\n",
    "    df.dropna(axis=1, inplace=True)\n",
    "\n",
    "for df in allGyrDf:\n",
    "    df.dropna(axis=1, inplace=True)\n",
    "\n",
    "for df in allOriDf:\n",
    "    df.dropna(axis=1, inplace=True)\n"
   ]
  },
  {
   "cell_type": "code",
   "execution_count": null,
   "metadata": {},
   "outputs": [],
   "source": [
    "#Drop all sensor columns\n",
    "for df in allAccDf:\n",
    "    df.drop(['sensor'], axis=1, inplace=True)\n",
    "\n",
    "for df in allGyrDf:\n",
    "    df.drop(['sensor'], axis=1, inplace=True)\n",
    "\n",
    "for df in allOriDf:\n",
    "    df.drop(['sensor'], axis=1, inplace=True)"
   ]
  },
  {
   "cell_type": "code",
   "execution_count": null,
   "metadata": {},
   "outputs": [],
   "source": [
    "#Extract Feautures from all Dataframes\n",
    "\n"
   ]
  },
  {
   "cell_type": "code",
   "execution_count": null,
   "metadata": {},
   "outputs": [],
   "source": [
    "#Only use the Accelerometer Data iterate over all dataframes\n",
    "df_walk1 = onlyAccData(df_walk1)\n",
    "df_walk2 = onlyAccData(df_walk2)\n",
    "df_walk3 = onlyAccData(df_walk3)\n",
    "df_walk4 = onlyAccData(df_walk4)\n",
    "df_push1 = onlyAccData(df_push1)\n",
    "df_push2 = onlyAccData(df_push2)\n",
    "df_push3 = onlyAccData(df_push3)\n",
    "df_push4 = onlyAccData(df_push4)\n",
    "df_push5 = onlyAccData(df_push5)\n",
    "df_JJ1 = onlyAccData(df_JJ1)\n",
    "df_JJ2 = onlyAccData(df_JJ2)\n",
    "df_JJ3 = onlyAccData(df_JJ3)\n",
    "df_JJ4 = onlyAccData(df_JJ4)\n",
    "df_JJ5 = onlyAccData(df_JJ5)\n",
    "\n",
    "#drop sensor column\n",
    "df_walk1 = df_walk1.drop(columns=['sensor'])\n",
    "df_walk2 = df_walk2.drop(columns=['sensor'])\n",
    "df_walk3 = df_walk3.drop(columns=['sensor'])\n",
    "df_walk4 = df_walk4.drop(columns=['sensor'])\n",
    "df_push1 = df_push1.drop(columns=['sensor'])\n",
    "df_push2 = df_push2.drop(columns=['sensor'])\n",
    "df_push3 = df_push3.drop(columns=['sensor'])\n",
    "df_push4 = df_push4.drop(columns=['sensor'])\n",
    "df_push5 = df_push5.drop(columns=['sensor'])\n",
    "df_JJ1 = df_JJ1.drop(columns=['sensor'])\n",
    "df_JJ2 = df_JJ2.drop(columns=['sensor'])\n",
    "df_JJ3 = df_JJ3.drop(columns=['sensor'])\n",
    "df_JJ4 = df_JJ4.drop(columns=['sensor'])\n",
    "df_JJ5 = df_JJ5.drop(columns=['sensor'])\n",
    "\n",
    "\n",
    "#geht irgendwie nicht kp warum\n",
    "#for df in allDf:\n",
    "#    df = onlyAccData(df)\n",
    "    "
   ]
  },
  {
   "cell_type": "code",
   "execution_count": null,
   "metadata": {},
   "outputs": [],
   "source": [
    "df_walk1 = deleteSensorData(df_walk1)\n",
    "df_walk2 = deleteSensorData(df_walk2)\n",
    "df_JJ1 = deleteSensorData(df_JJ1)\n",
    "df_JJ2 = deleteSensorData(df_JJ2) \n",
    "df_push1 = deleteSensorData(df_push1)\n",
    "df_push2 = deleteSensorData(df_push2)"
   ]
  },
  {
   "cell_type": "code",
   "execution_count": null,
   "metadata": {},
   "outputs": [],
   "source": [
    "df_walk1.describe()"
   ]
  },
  {
   "attachments": {},
   "cell_type": "markdown",
   "metadata": {},
   "source": [
    "# Plot Data"
   ]
  },
  {
   "cell_type": "code",
   "execution_count": null,
   "metadata": {},
   "outputs": [],
   "source": [
    "df_push_Gyr.plot(x='time', y='z', kind='line')\n",
    "df_push_Gyr.plot(x='time', y='y', kind='line')\n",
    "df_push_Gyr.plot(x='time', y='x', kind='line')"
   ]
  },
  {
   "cell_type": "code",
   "execution_count": null,
   "metadata": {},
   "outputs": [],
   "source": [
    "df_JJ3.plot(x='time', y='z', kind='line')"
   ]
  },
  {
   "cell_type": "code",
   "execution_count": null,
   "metadata": {},
   "outputs": [],
   "source": [
    "#Plot Walk\n",
    "plotDataGyr(df_walk_Gyr, 'Gyroscope Walk')\n",
    "\n",
    "#Plot PushUps\n",
    "plotDataGyr(df_push_Gyr, 'Gyroscope PushUps')\n",
    "\n",
    "#Plot JumpingJacks\n",
    "plotDataGyr(df_JJ_Gyr, 'Gyroscope JumpingJacks')"
   ]
  },
  {
   "cell_type": "code",
   "execution_count": null,
   "metadata": {},
   "outputs": [],
   "source": [
    "#Plotting Accelerometer Data\n",
    "\n",
    "#Plot Walk\n",
    "plotDataAcc(df_walk_Acc, 'Accelerometer Walk')\n",
    "\n",
    "#Plot PushUps\n",
    "plotDataAcc(df_push_Acc, 'Accelerometer PushUps')\n",
    "\n",
    "#Plot JumpingJacks\n",
    "plotDataAcc(df_JJ_Acc, 'Accelerometer JumpingJacks')"
   ]
  },
  {
   "cell_type": "code",
   "execution_count": null,
   "metadata": {},
   "outputs": [],
   "source": [
    "#Plot Walk\n",
    "plotDataOri(df_walk_Ori, 'Orientation Walk')\n",
    "\n",
    "#Plot PushUps\n",
    "plotDataOri(df_push_Ori, 'Orientation PushUps')\n",
    "\n",
    "#Plot JumpingJacks\n",
    "plotDataOri(df_JJ_Ori, 'Orientation JumpingJacks')\n",
    "    "
   ]
  },
  {
   "attachments": {},
   "cell_type": "markdown",
   "metadata": {},
   "source": [
    "# **KNN Classifikation**\n",
    "1. Label Data\n",
    "2. Concat Dataframes\n",
    "3. Split Data\n",
    "4. Train Model\n",
    "5. Predict\n",
    "6. Evaluate"
   ]
  },
  {
   "attachments": {},
   "cell_type": "markdown",
   "metadata": {},
   "source": [
    "### 1. Label Data"
   ]
  },
  {
   "cell_type": "code",
   "execution_count": null,
   "metadata": {},
   "outputs": [],
   "source": [
    "#Classification with KNN\n",
    "#Function to label the data\n",
    "def getData(data, label):\n",
    "    data['label'] = label\n",
    "    return data\n",
    "\n",
    "#Label Data\n",
    "#Label Data Walk\n",
    "df_walk1 = getData(df_walk1, 'walk')\n",
    "df_walk2 = getData(df_walk2, 'walk')\n",
    "df_walk3 = getData(df_walk3, 'walk')\n",
    "df_walk4 = getData(df_walk4, 'walk')\n",
    "\n",
    "\n",
    "#Label Data PushUps\n",
    "df_push1 = getData(df_push1, 'pushups')\n",
    "df_push2 = getData(df_push2, 'pushups')\n",
    "df_push3 = getData(df_push3, 'pushups')\n",
    "df_push4 = getData(df_push4, 'pushups')\n",
    "df_push5 = getData(df_push5, 'pushups')\n",
    "\n",
    "#Label Data JumpingJacks\n",
    "df_JJ1 = getData(df_JJ1, 'jumpingjacks')\n",
    "df_JJ2 = getData(df_JJ2, 'jumpingjacks')\n",
    "df_JJ3 = getData(df_JJ3, 'jumpingjacks')\n",
    "df_JJ4 = getData(df_JJ4, 'jumpingjacks')\n",
    "df_JJ5 = getData(df_JJ5, 'jumpingjacks')"
   ]
  },
  {
   "cell_type": "code",
   "execution_count": null,
   "metadata": {},
   "outputs": [],
   "source": [
    "#plot json data\n",
    "df_push4.head(10)"
   ]
  },
  {
   "attachments": {},
   "cell_type": "markdown",
   "metadata": {},
   "source": [
    "### 2. Concat Dataframes"
   ]
  },
  {
   "cell_type": "code",
   "execution_count": null,
   "metadata": {},
   "outputs": [],
   "source": [
    "#Concat DataFrames\n",
    "df = pd.concat([df_walk1, df_push1, df_JJ1], axis=0)\n",
    "df_test = pd.concat([df_JJ2, df_push2, df_walk2], axis=0)\n",
    "\n",
    "#Short Df_test for predciton\n",
    "df_test= df_test.head(1517)\n",
    "\n",
    "\n",
    "\n",
    "#Fill NaN Values with propagation\n",
    "df.fillna(method='ffill', inplace=True)\n",
    "df_test.fillna(method='ffill', inplace=True)\n",
    "\n",
    "\n",
    "\n",
    "#kein random split sondern spezifizieren\n",
    "#erste 70% train, letzte 30% test\n",
    "#fünf trainings df und quasi im train nur die ersten 3 und die zwei anderen dann als test"
   ]
  },
  {
   "cell_type": "code",
   "execution_count": null,
   "metadata": {},
   "outputs": [],
   "source": [
    "#drop sensor column\n",
    "df_push4 = df_push4.drop(columns=['sensor'])\n",
    "df_push5 = df_push5.drop(columns=['sensor'])\n",
    "df_JJ3 = df_JJ3.drop(columns=['sensor'])\n",
    "df_JJ4 = df_JJ4.drop(columns=['sensor'])\n",
    "df_JJ5 = df_JJ5.drop(columns=['sensor'])\n",
    "df_walk3 = df_walk3.drop(columns=['sensor'])\n",
    "df_walk4 = df_walk4.drop(columns=['sensor'])\n"
   ]
  },
  {
   "cell_type": "code",
   "execution_count": null,
   "metadata": {},
   "outputs": [],
   "source": [
    "#Concat all Dataframes into one\n",
    "df = pd.concat([df_walk1, df_walk2, df_push1, df_push2, df_push3, df_JJ1, df_JJ2, df_JJ3], axis=0)\n",
    "df_test = pd.concat([df_walk3, df_walk4, df_push4, df_push5, df_JJ4, df_JJ5], axis=0)"
   ]
  },
  {
   "cell_type": "code",
   "execution_count": null,
   "metadata": {},
   "outputs": [],
   "source": [
    "#Fill NaN Values with propagation\n",
    "df.fillna(method='bfill', inplace=True)\n",
    "df_test.fillna(method='bfill', inplace=True)"
   ]
  },
  {
   "cell_type": "code",
   "execution_count": null,
   "metadata": {},
   "outputs": [],
   "source": [
    "df.head(10)"
   ]
  },
  {
   "cell_type": "code",
   "execution_count": null,
   "metadata": {},
   "outputs": [],
   "source": [
    "print('Test: ', len(df_test))\n",
    "print('Df: ', len(df))\n",
    "\n",
    "df_test.drop(['label'], axis=1, inplace=True)"
   ]
  },
  {
   "attachments": {},
   "cell_type": "markdown",
   "metadata": {},
   "source": [
    "ToDo: Marvin\n",
    "#gemischten Datensatz vlt mal testen, weiß noch nicht genau wie ich den einbauen soll"
   ]
  },
  {
   "cell_type": "code",
   "execution_count": null,
   "metadata": {},
   "outputs": [],
   "source": [
    "#df_test.head(10)\n",
    "df_test.describe()"
   ]
  },
  {
   "attachments": {},
   "cell_type": "markdown",
   "metadata": {},
   "source": [
    "### 3. Split Data"
   ]
  },
  {
   "cell_type": "code",
   "execution_count": null,
   "metadata": {},
   "outputs": [],
   "source": [
    "#Split Data erste 70% train, letzte 30% test\n",
    "X = df.drop(['label'], axis=1)\n",
    "y = df['label']\n",
    "\n",
    "\n",
    "X_train, X_test, y_train, y_test = train_test_split(X, y, shuffle= False, test_size=0.3)"
   ]
  },
  {
   "cell_type": "code",
   "execution_count": null,
   "metadata": {},
   "outputs": [],
   "source": [
    "df.drop(['sensor'], axis=1, inplace=True)\n",
    "\n",
    "# muss die daten aggregieren und zeitfenster statt zeitpunkte nehmen \n",
    "# damit kann ich dann die daten klassifizieren \n",
    "# große Dataframes in kleine Dataframes splitten und dann die kleinen Dataframes klassifizieren\n"
   ]
  },
  {
   "cell_type": "code",
   "execution_count": null,
   "metadata": {},
   "outputs": [],
   "source": [
    "#Show Training Data\n",
    "def showXTrainingData(data):\n",
    "  print(data.shape)\n",
    "  print(data.columns)\n",
    "  plt.plot(data['z'], color='red', marker='.')#\n",
    "  plt.plot(data['y'], color='blue', marker='.')#\n",
    "  plt.plot(data['x'], color='green', marker='.')#\n",
    "  plt.plot(data['qz'], color='yellow', marker='.')#\n",
    "  plt.plot(data['qy'], color='black', marker='.')#\n",
    "  plt.plot(data['qx'], color='orange', marker='.')#\n",
    "  plt.plot(data['qw'], color='pink', marker='.')#\n",
    "  plt.plot(data['roll'], color='purple', marker='.')#\n",
    "  plt.xlabel('time')\n",
    "  plt.ylabel('x,y,z,qz,qy,qx,qw,roll')\n",
    "  plt.legend(['z', 'y', 'x', 'qz', 'qy', 'qx', 'qw', 'roll'])\n",
    "  plt.title('Train Data')\n",
    "  plt.show()\n",
    "\n",
    "showXTrainingData(X_train)\n"
   ]
  },
  {
   "attachments": {},
   "cell_type": "markdown",
   "metadata": {},
   "source": [
    "### 4. Train Model"
   ]
  },
  {
   "cell_type": "code",
   "execution_count": null,
   "metadata": {},
   "outputs": [],
   "source": [
    "#KNN\n",
    "knn = KNeighborsClassifier(n_neighbors=3, weights='distance')\n",
    "knn.fit(X_train, y_train)\n",
    "\n",
    "#shuffle data and then split"
   ]
  },
  {
   "attachments": {},
   "cell_type": "markdown",
   "metadata": {},
   "source": [
    "### 5. Predict"
   ]
  },
  {
   "cell_type": "code",
   "execution_count": null,
   "metadata": {},
   "outputs": [],
   "source": [
    "y_pred = knn.predict(X_test)\n",
    "print(len(y_test))"
   ]
  },
  {
   "attachments": {},
   "cell_type": "markdown",
   "metadata": {},
   "source": [
    "### 6. Evaluate"
   ]
  },
  {
   "cell_type": "code",
   "execution_count": null,
   "metadata": {},
   "outputs": [],
   "source": [
    "#Confusion Matrix\n",
    "#label confustion matrix\n",
    "\n",
    "cm = confusion_matrix(y_test, y_pred)\n",
    "print('Confusion Matrix: \\n', cm)\n",
    "\n",
    "#Accuracy\n",
    "accuracy = accuracy_score(y_test, y_pred)\n",
    "print('Accuracy: ', accuracy * 100, '%')\n",
    "\n",
    "#Recall\n",
    "recall = recall_score(y_test, y_pred, average='weighted')\n",
    "print('Recall: ', recall * 100, '%')"
   ]
  },
  {
   "cell_type": "code",
   "execution_count": null,
   "metadata": {},
   "outputs": [],
   "source": [
    "#export the model with pickle\n",
    "filename = 'knn.pickle'\n",
    "pkl.dump(knn, open(filename, 'wb'))\n"
   ]
  },
  {
   "cell_type": "code",
   "execution_count": null,
   "metadata": {},
   "outputs": [],
   "source": [
    "#Split Data Mixed\n",
    "X_mixed = df_mixed.drop(['label'], axis=1)\n",
    "y_mixed = df_mixed['label']\n",
    "X_train_mixed, X_test_mixed, y_train_mixed, y_test_mixed = train_test_split(X_mixed, y_mixed, test_size=0.3)\n",
    "\n",
    "#KNN\n",
    "knn = KNeighborsClassifier(n_neighbors=3, weights='distance')\n",
    "knn.fit(X_train, y_train)\n",
    "y_pred_mixed = knn.predict(X_test)\n",
    "\n"
   ]
  },
  {
   "attachments": {},
   "cell_type": "markdown",
   "metadata": {},
   "source": [
    "**Export Model into Pickle**"
   ]
  },
  {
   "attachments": {},
   "cell_type": "markdown",
   "metadata": {},
   "source": [
    "# Sonstiges"
   ]
  },
  {
   "cell_type": "code",
   "execution_count": null,
   "metadata": {},
   "outputs": [],
   "source": [
    "#take the uploaded file and load it into a dataframe and then apply the model to it\n",
    "#df = pd.read_csv('uploaded_file.csv')\n",
    "#model = pickle.load(open('knn.pkl', 'rb'))\n",
    "#model.predict(df)\n"
   ]
  },
  {
   "attachments": {},
   "cell_type": "markdown",
   "metadata": {},
   "source": [
    "Lösung von ChatGpt, leider nicht so einfach..."
   ]
  },
  {
   "cell_type": "code",
   "execution_count": null,
   "metadata": {},
   "outputs": [],
   "source": [
    "# Daten laden\n",
    "training_data = df.drop(['label'], axis=1)\n",
    "training_labels = df['label']\n",
    "\n",
    "# Sensordaten in eine zweidimensionale Form umwandeln\n",
    "training_data = training_data.reshape(training_data.shape[0], -1)\n",
    "\n",
    "\n",
    "# KNN-Modell erstellen und trainieren\n",
    "knn = KNeighborsClassifier(n_neighbors=3, weights='distance')\n",
    "knn.fit(training_data, training_labels)\n",
    "\n",
    "# Sensordaten für eine neue Instanz\n",
    "new_data = df_test\n",
    "new_data = new_data.reshape(1, -1)\n",
    "\n",
    "# Vorhersage für die neue Instanz\n",
    "prediction = knn.predict([new_data])\n",
    "\n",
    "# Wahrscheinlichkeiten der Vorhersagen\n",
    "probabilities = knn.predict_proba([new_data])\n",
    "\n",
    "# Index der vorhergesagten Klasse\n",
    "predicted_class_index = prediction[0]\n",
    "\n",
    "# Wahrscheinlichkeit der vorhergesagten Klasse\n",
    "predicted_class_probability = probabilities[0][predicted_class_index]\n",
    "\n",
    "# Klassenbezeichnungen\n",
    "class_names = ['Jumping Jacks', 'Pushups', 'Laufen']\n",
    "\n",
    "# Ergebnis ausgeben\n",
    "result = f\"Mit {predicted_class_probability*100:.2f}% Sicherheit hat die Person {class_names[predicted_class_index]} gemacht.\"\n",
    "print(result)\n"
   ]
  }
 ],
 "metadata": {
  "kernelspec": {
   "display_name": "ML4B-App",
   "language": "python",
   "name": "python3"
  },
  "language_info": {
   "codemirror_mode": {
    "name": "ipython",
    "version": 3
   },
   "file_extension": ".py",
   "mimetype": "text/x-python",
   "name": "python",
   "nbconvert_exporter": "python",
   "pygments_lexer": "ipython3",
   "version": "3.10.11"
  },
  "orig_nbformat": 4
 },
 "nbformat": 4,
 "nbformat_minor": 2
}
