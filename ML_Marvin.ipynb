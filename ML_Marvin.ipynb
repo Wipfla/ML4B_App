{
 "cells": [
  {
   "attachments": {},
   "cell_type": "markdown",
   "metadata": {},
   "source": [
    "**Load Libraries**"
   ]
  },
  {
   "cell_type": "code",
   "execution_count": 1,
   "metadata": {},
   "outputs": [],
   "source": [
    "import pandas as pd\n",
    "import numpy as np\n",
    "import sklearn as sk\n",
    "import matplotlib.pyplot as plt\n",
    "import pickle as pkl\n",
    "\n",
    "#Classification with KNN\n",
    "from sklearn.neighbors import KNeighborsClassifier\n",
    "from sklearn.metrics import confusion_matrix\n",
    "from sklearn.metrics import recall_score\n",
    "from sklearn.model_selection import train_test_split\n",
    "from sklearn.metrics import accuracy_score\n"
   ]
  },
  {
   "attachments": {},
   "cell_type": "markdown",
   "metadata": {},
   "source": [
    "# Data Preprocessing"
   ]
  },
  {
   "attachments": {},
   "cell_type": "markdown",
   "metadata": {},
   "source": [
    "### Define Functions"
   ]
  },
  {
   "cell_type": "code",
   "execution_count": 8,
   "metadata": {},
   "outputs": [],
   "source": [
    "def loadDataFrames(name, pathAcc, pathGyr, pathOri):\n",
    "    df_Acc= pd.read_csv(pathAcc)\n",
    "    df_Gyr= pd.read_csv(pathGyr)\n",
    "    df_Ori= pd.read_csv(pathOri)\n",
    "    print(\"Data Frames for \" + name + \" loaded.\")\n",
    "    return df_Acc, df_Gyr, df_Ori\n",
    "\n",
    "def loadJsonData(name, pathJson):\n",
    "    df = pd.read_json(pathJson)\n",
    "    print(\"Data Frame for \" + name + \" loaded.\")\n",
    "    return df\t   \n",
    "\n",
    "#Concat Funktion\n",
    "def concatDataFrames(name, df_Acc, df_Gyr, df_Ori):\n",
    "  df_Gyr.drop(['time','seconds_elapsed'], axis=1, inplace=True)\n",
    "  df_Ori.drop(['time','seconds_elapsed'], axis=1, inplace=True)\n",
    "  df = pd.concat([df_Acc, df_Gyr, df_Ori], axis=1)\n",
    "  print(\"Data Frames for \" + name + \" concatenated.\")\n",
    "  return df\n",
    "\n",
    "#Function to plot Gyr Data\n",
    "def plotDataGyr(data, title):\n",
    "    plt.plot(data['time'], data['z'], color='red', marker='.')\n",
    "    plt.plot(data['time'], data['y'], color='blue', marker='.')\n",
    "    plt.plot(data['time'], data['x'], color='green', marker='.')\n",
    "    plt.xlabel('time')\n",
    "    plt.ylabel('x,y,z')\n",
    "    plt.legend(['z', 'y', 'x'])\n",
    "    plt.title(title)\n",
    "    plt.show()\n",
    "\n",
    "#Function to Plot Acc Data\n",
    "def plotDataAcc(data, title):\n",
    "    plt.plot(data['time'], data['z'], color='red', marker='.')\n",
    "    plt.plot(data['time'], data['y'], color='blue', marker='.')\n",
    "    plt.plot(data['time'], data['x'], color='green', marker='.')\n",
    "    plt.xlabel('time')\n",
    "    plt.ylabel('x,y,z')\n",
    "    plt.legend(['z', 'y', 'x'])\n",
    "    plt.title(title)\n",
    "    plt.show()\n",
    "\n",
    "#Function to Plot Ori Data\n",
    "def plotDataOri(data, title):\n",
    "    plt.plot(data['time'], data['qz'], color='red', marker='.')\n",
    "    plt.plot(data['time'], data['qy'], color='blue', marker='.')\n",
    "    plt.plot(data['time'], data['qx'], color='green', marker='.')\n",
    "    plt.plot(data['time'], data['qw'], color='yellow', marker='.')\n",
    "    #plt.plot(data['time'], data['roll'], color='black', marker='.')\n",
    "    plt.xlabel('time')\n",
    "    plt.ylabel('qz,qy,qx,qw,roll')\n",
    "    plt.legend(['qz', 'qy', 'qx', 'qw', 'roll'])\n",
    "    plt.title(title)\n",
    "    plt.show()\n",
    "\n",
    "#Clean unused Sensors\n",
    "def deleteSensorData(df):\n",
    "  notUsedSensors = ['Annotation', 'Barometer', 'Battery', 'Brightness', 'Gravity', 'Light', 'Location', 'Magnetometer', 'MagnetometerUncalibrated', 'Microphone']\n",
    "  df = df[~df['sensor'].isin(notUsedSensors)]\n",
    "  #df.drop(['relativeAltitude','pressure', 'batteryLevel', 'batteryState', 'lowPowerMode','brightness', 'lux', 'bearingAccuracy', 'speedAccuracy', 'verticalAccuracy', 'horizontalAccuracy', 'speed', 'bearing','altitude', 'longitude', 'latitude'], axis=1, inplace=True)\n",
    "\n",
    "  return df\n",
    "\n",
    "\n",
    "#Clean Function Json Data\n",
    "def cleanDataJson(df):\n",
    "    #Drop unused Columns\n",
    "    columns_to_drop = ['version','device name','recording time','platform','appVersion', 'device id', 'sampleRateMs','relativeAltitude','pressure', 'batteryLevel', 'batteryState', 'lowPowerMode','brightness', 'lux', 'bearingAccuracy', 'speedAccuracy', 'verticalAccuracy', 'horizontalAccuracy', 'speed', 'bearing','altitude', 'longitude', 'latitude']\n",
    "    columns_to_drop = list(set(columns_to_drop).intersection(df.columns))\n",
    "\n",
    "    if columns_to_drop:\n",
    "        df.drop(columns=columns_to_drop, inplace=True)\n",
    "        print(\"Spalten wurden erfolgreich entfernt.\")\n",
    "    else:\n",
    "        print(\"Keine der Spalten zum Entfernen gefunden.\")\n",
    "        #df.drop(['version','device name','recording time','platform','appVersion', 'device id', 'sampleRateMs' ], axis=1, inplace=True)\n",
    "    return df\n"
   ]
  },
  {
   "attachments": {},
   "cell_type": "markdown",
   "metadata": {},
   "source": [
    "### Load Data and give them a name"
   ]
  },
  {
   "cell_type": "code",
   "execution_count": 14,
   "metadata": {},
   "outputs": [
    {
     "name": "stdout",
     "output_type": "stream",
     "text": [
      "Data Frames for mixed loaded.\n",
      "Data Frame for walking 1 loaded.\n",
      "Data Frame for walking 2 loaded.\n",
      "Data Frame for walking 3 loaded.\n",
      "Data Frame for walking 4 loaded.\n",
      "Data Frame for push ups 1 loaded.\n",
      "Data Frame for push ups 2 loaded.\n",
      "Data Frame for push ups 3 loaded.\n",
      "Data Frame for push ups 4 loaded.\n",
      "Data Frame for push ups 5 loaded.\n",
      "Data Frame for jumping jacks 1 loaded.\n",
      "Data Frame for jumping jacks 2 loaded.\n",
      "Data Frame for jumping jacks 3 loaded.\n",
      "Data Frame for jumping jacks 4 loaded.\n",
      "Data Frame for jumping jacks 5 loaded.\n"
     ]
    }
   ],
   "source": [
    "#load mixed data\n",
    "df_mixed_Acc, df_mixed_Gyr, df_mixed_Ori =loadDataFrames('mixed','data/MixedData/Accelerometer.csv', 'data/MixedData/Gyroscope.csv', 'data/MixedData/Orientation.csv')\n",
    "\n",
    "##############################################################################################################\n",
    "\n",
    "#load data frames for walking\n",
    "#df_walk_Acc, df_walk_Gyr, df_walk_Ori =loadDataFrames('walking','data/NormalWalk/Accelerometer.csv', 'data/NormalWalk/Gyroscope.csv', 'data/NormalWalk/Orientation.csv')\n",
    "df_walk1 = loadJsonData('walking 1', 'data/NormalWalk/NormalWalk.json')\n",
    "\n",
    "#load data walk2\n",
    "#df_walk2_Acc, df_walk2_Gyr, df_walk2_Ori =loadDataFrames('walking 2','data/Walk2/Accelerometer.csv', 'data/Walk2/Gyroscope.csv', 'data/Walk2/Orientation.csv')\n",
    "df_walk2 = loadJsonData('walking 2', 'data/Walk2/Walk2.json')\n",
    "\n",
    "#load data walk3 Alex\n",
    "df_walk3 = loadJsonData('walking 3', 'data\\Alex_Rumstehen_-2023-05-02_15-30-58.json')\n",
    "\n",
    "#load data walk4 Alex\n",
    "df_walk4 = loadJsonData('walking 4', 'data\\Alex_Rumstehen_2-2023-05-23_14-53-09.json')\n",
    "\n",
    "\n",
    "##############################################################################################################\n",
    "\n",
    "#load data frames for push ups\n",
    "#df_push_Acc, df_push_Gyr, df_push_Ori =loadDataFrames('push ups','data/PushUps/Accelerometer.csv', 'data/PushUps/Gyroscope.csv', 'data/PushUps/Orientation.csv')\n",
    "df_push1 = loadJsonData('push ups 1', 'data/PushUps/PushUps.json')\n",
    "\n",
    "#load data pushups2\n",
    "#df_push2_Acc, df_push2_Gyr, df_push2_Ori =loadDataFrames('push ups 2','data/PushUps2/Accelerometer.csv', 'data/PushUps2/Gyroscope.csv', 'data/PushUps2/Orientation.csv')\n",
    "df_push2 = loadJsonData('push ups 2', 'data/PushUps2/PushUps2.json')\n",
    "\n",
    "#load data pushups3 Alex\n",
    "df_push3 = loadJsonData('push ups 3', 'data/Alex_Push_Up_2-2023-05-23_15-04-54.json')\n",
    "\n",
    "#load data pushups4 Alex\n",
    "df_push4 = loadJsonData('push ups 4', 'data\\Alex_10_Liegestütz-2023-05-02_15-29-25.json')\n",
    "\n",
    "#load data pushups5 Pierre\n",
    "df_push5 = loadJsonData('push ups 5', 'data\\PushUps-pierre.json')\n",
    "\n",
    "##############################################################################################################\n",
    "\n",
    "#load data frames for jumping jacks\n",
    "#df_JJ_Acc, df_JJ_Gyr, df_JJ_Ori =loadDataFrames('jumping jacks ','data/JJ_rightHand/Accelerometer.csv', 'data/JJ_rightHand/Gyroscope.csv', 'data/JJ_rightHand/Orientation.csv')\n",
    "df_JJ1 = loadJsonData('jumping jacks 1', 'data/JJ_rightHand/JJ1.json')\n",
    "\n",
    "#load data JJ2\n",
    "#df_JJ2_Acc, df_JJ2_Gyr, df_JJ2_Ori =loadDataFrames('jumping jacks 2','data/JJ2/Accelerometer.csv', 'data/JJ2/Gyroscope.csv', 'data/JJ2/Orientation.csv')\n",
    "df_JJ2 = loadJsonData('jumping jacks 2', 'data/JJ2/JJ2.json')\n",
    "\n",
    "#load data JJ3 Alex\n",
    "df_JJ3 = loadJsonData('jumping jacks 3', 'data/Alex_10_Hampelmänner-2023-05-02_15-30-18.json')\n",
    "\n",
    "#load data JJ4 Pierre\n",
    "df_JJ4 = loadJsonData('jumping jacks 4', 'data/JumpingsJacks-pierre-1.json')\n",
    "\n",
    "#load data JJ5 Pierre\n",
    "df_JJ5 = loadJsonData('jumping jacks 5', 'data/JumpingsJacks-pierre-2.json')"
   ]
  },
  {
   "attachments": {},
   "cell_type": "markdown",
   "metadata": {},
   "source": [
    "**Clean Up Json Data**"
   ]
  },
  {
   "cell_type": "code",
   "execution_count": 4,
   "metadata": {},
   "outputs": [
    {
     "data": {
      "text/plain": [
       "Index(['sensor', 'time', 'seconds_elapsed', 'z', 'y', 'x', 'relativeAltitude',\n",
       "       'pressure', 'batteryLevel', 'batteryState', 'lowPowerMode',\n",
       "       'brightness', 'lux', 'bearingAccuracy', 'speedAccuracy',\n",
       "       'verticalAccuracy', 'horizontalAccuracy', 'speed', 'bearing',\n",
       "       'altitude', 'longitude', 'latitude', 'version', 'device name',\n",
       "       'recording time', 'platform', 'appVersion', 'device id', 'sensors',\n",
       "       'sampleRateMs', 'qz', 'qy', 'qx', 'qw', 'roll', 'pitch', 'yaw'],\n",
       "      dtype='object')"
      ]
     },
     "execution_count": 4,
     "metadata": {},
     "output_type": "execute_result"
    }
   ],
   "source": [
    "df_walk1.columns"
   ]
  },
  {
   "cell_type": "code",
   "execution_count": 13,
   "metadata": {},
   "outputs": [],
   "source": [
    "df_walk1 = deleteSensorData(df_walk1)\n",
    "df_walk2 = deleteSensorData(df_walk2)\n",
    "df_JJ1 = deleteSensorData(df_JJ1)\n",
    "df_JJ2 = deleteSensorData(df_JJ2) \n",
    "df_push1 = deleteSensorData(df_push1)\n",
    "df_push2 = deleteSensorData(df_push2)"
   ]
  },
  {
   "cell_type": "code",
   "execution_count": 11,
   "metadata": {},
   "outputs": [
    {
     "ename": "AttributeError",
     "evalue": "'NoneType' object has no attribute 'drop'",
     "output_type": "error",
     "traceback": [
      "\u001b[1;31m---------------------------------------------------------------------------\u001b[0m",
      "\u001b[1;31mAttributeError\u001b[0m                            Traceback (most recent call last)",
      "Cell \u001b[1;32mIn[11], line 1\u001b[0m\n\u001b[1;32m----> 1\u001b[0m df_push1 \u001b[39m=\u001b[39m cleanDataJson(df_push1)\n\u001b[0;32m      2\u001b[0m df_push2 \u001b[39m=\u001b[39m cleanDataJson(df_push2)\n\u001b[0;32m      3\u001b[0m df_push3 \u001b[39m=\u001b[39m cleanDataJson(df_push3)\n",
      "Cell \u001b[1;32mIn[8], line 65\u001b[0m, in \u001b[0;36mcleanDataJson\u001b[1;34m(df)\u001b[0m\n\u001b[0;32m     64\u001b[0m \u001b[39mdef\u001b[39;00m \u001b[39mcleanDataJson\u001b[39m(df):\n\u001b[1;32m---> 65\u001b[0m     df\u001b[39m.\u001b[39;49mdrop([\u001b[39m'\u001b[39m\u001b[39mversion\u001b[39m\u001b[39m'\u001b[39m,\u001b[39m'\u001b[39m\u001b[39mdevice name\u001b[39m\u001b[39m'\u001b[39m,\u001b[39m'\u001b[39m\u001b[39mrecording time\u001b[39m\u001b[39m'\u001b[39m,\u001b[39m'\u001b[39m\u001b[39mplatform\u001b[39m\u001b[39m'\u001b[39m,\u001b[39m'\u001b[39m\u001b[39mappVersion\u001b[39m\u001b[39m'\u001b[39m, \u001b[39m'\u001b[39m\u001b[39mdevice id\u001b[39m\u001b[39m'\u001b[39m, \u001b[39m'\u001b[39m\u001b[39msampleRateMs\u001b[39m\u001b[39m'\u001b[39m ], axis\u001b[39m=\u001b[39m\u001b[39m1\u001b[39m, inplace\u001b[39m=\u001b[39m\u001b[39mTrue\u001b[39;00m)\n\u001b[0;32m     66\u001b[0m     \u001b[39mreturn\u001b[39;00m df\n",
      "\u001b[1;31mAttributeError\u001b[0m: 'NoneType' object has no attribute 'drop'"
     ]
    }
   ],
   "source": [
    "df_push1 = cleanDataJson(df_push1)\n",
    "df_push2 = cleanDataJson(df_push2)\n",
    "df_push3 = cleanDataJson(df_push3)\n",
    "df_push4 = cleanDataJson(df_push4)\n",
    "df_push5 = cleanDataJson(df_push5)\n",
    "df_JJ1 = cleanDataJson(df_JJ1)\n",
    "df_JJ2 = cleanDataJson(df_JJ2)\n",
    "df_JJ3 = cleanDataJson(df_JJ3)\n",
    "df_JJ4 = cleanDataJson(df_JJ4)\n",
    "df_JJ5 = cleanDataJson(df_JJ5)\n",
    "df_walk1 = cleanDataJson(df_walk1)\n",
    "df_walk2 = cleanDataJson(df_walk2)\n",
    "df_walk3 = cleanDataJson(df_walk3)\n",
    "df_walk4 = cleanDataJson(df_walk4)"
   ]
  },
  {
   "attachments": {},
   "cell_type": "markdown",
   "metadata": {},
   "source": [
    "**Concat Dataframes**"
   ]
  },
  {
   "cell_type": "code",
   "execution_count": null,
   "metadata": {},
   "outputs": [],
   "source": [
    "#Concat DataFrames Walk\n",
    "df_walk1 = concatDataFrames('walking', df_walk_Acc, df_walk_Gyr, df_walk_Ori)\n",
    "\n",
    "#Concat DataFrames PushUps\n",
    "df_push1 = concatDataFrames('push ups', df_push_Acc, df_push_Gyr, df_push_Ori)\n",
    "\n",
    "#Concat DataFrames JumpingJacks\n",
    "df_JJ1 = concatDataFrames('jumping jacks', df_JJ_Acc, df_JJ_Gyr, df_JJ_Ori)\n",
    "\n",
    "#Concat DataFrames JumpingJacks2\n",
    "df_JJ2 = concatDataFrames('jumping jacks 2', df_JJ2_Acc, df_JJ2_Gyr, df_JJ2_Ori)\n",
    "\n",
    "#Concat DataFrames PushUps2\n",
    "df_push2 = concatDataFrames('push ups 2', df_push2_Acc, df_push2_Gyr, df_push2_Ori)\n",
    "\n",
    "#Concat DataFrames Walk2\n",
    "df_walk2 = concatDataFrames('walking 2', df_walk2_Acc, df_walk2_Gyr, df_walk2_Ori)\n",
    "\n",
    "\n",
    "\n",
    "#Concat Mixed DataFrames\n",
    "df_mixed = concatDataFrames('mixed', df_mixed_Acc, df_mixed_Gyr, df_mixed_Ori)\n",
    "df_mixed.head(10)"
   ]
  },
  {
   "attachments": {},
   "cell_type": "markdown",
   "metadata": {},
   "source": [
    "# Plot Data"
   ]
  },
  {
   "cell_type": "code",
   "execution_count": null,
   "metadata": {},
   "outputs": [],
   "source": [
    "df_push_Gyr.plot(x='time', y='z', kind='line')\n",
    "df_push_Gyr.plot(x='time', y='y', kind='line')\n",
    "df_push_Gyr.plot(x='time', y='x', kind='line')"
   ]
  },
  {
   "cell_type": "code",
   "execution_count": null,
   "metadata": {},
   "outputs": [],
   "source": [
    "df_JJ3.plot(x='time', y='z', kind='line')"
   ]
  },
  {
   "cell_type": "code",
   "execution_count": null,
   "metadata": {},
   "outputs": [],
   "source": [
    "#Plot Walk\n",
    "plotDataGyr(df_walk_Gyr, 'Gyroscope Walk')\n",
    "\n",
    "#Plot PushUps\n",
    "plotDataGyr(df_push_Gyr, 'Gyroscope PushUps')\n",
    "\n",
    "#Plot JumpingJacks\n",
    "plotDataGyr(df_JJ_Gyr, 'Gyroscope JumpingJacks')"
   ]
  },
  {
   "cell_type": "code",
   "execution_count": null,
   "metadata": {},
   "outputs": [],
   "source": [
    "#Plotting Accelerometer Data\n",
    "\n",
    "#Plot Walk\n",
    "plotDataAcc(df_walk_Acc, 'Accelerometer Walk')\n",
    "\n",
    "#Plot PushUps\n",
    "plotDataAcc(df_push_Acc, 'Accelerometer PushUps')\n",
    "\n",
    "#Plot JumpingJacks\n",
    "plotDataAcc(df_JJ_Acc, 'Accelerometer JumpingJacks')"
   ]
  },
  {
   "cell_type": "code",
   "execution_count": null,
   "metadata": {},
   "outputs": [],
   "source": [
    "#Plot Walk\n",
    "plotDataOri(df_walk_Ori, 'Orientation Walk')\n",
    "\n",
    "#Plot PushUps\n",
    "plotDataOri(df_push_Ori, 'Orientation PushUps')\n",
    "\n",
    "#Plot JumpingJacks\n",
    "plotDataOri(df_JJ_Ori, 'Orientation JumpingJacks')\n",
    "    "
   ]
  },
  {
   "attachments": {},
   "cell_type": "markdown",
   "metadata": {},
   "source": [
    "# **KNN Classifikation**\n",
    "1. Label Data\n",
    "2. Concat Dataframes\n",
    "3. Split Data\n",
    "4. Train Model\n",
    "5. Predict\n",
    "6. Evaluate"
   ]
  },
  {
   "attachments": {},
   "cell_type": "markdown",
   "metadata": {},
   "source": [
    "### 1. Label Data"
   ]
  },
  {
   "cell_type": "code",
   "execution_count": null,
   "metadata": {},
   "outputs": [],
   "source": [
    "#Classification with KNN\n",
    "#Function to label the data\n",
    "def getData(data, label):\n",
    "    data['label'] = label\n",
    "    return data\n",
    "\n",
    "#Label Data\n",
    "#Label Data Walk\n",
    "df_walk1 = getData(df_walk1, 'walk')\n",
    "df_walk2 = getData(df_walk2, 'walk')\n",
    "df_walk3 = getData(df_walk3, 'walk')\n",
    "df_walk4 = getData(df_walk4, 'walk')\n",
    "\n",
    "\n",
    "#Label Data PushUps\n",
    "df_push1 = getData(df_push1, 'pushups')\n",
    "df_push2 = getData(df_push2, 'pushups')\n",
    "df_push3 = getData(df_push3, 'pushups')\n",
    "df_push4 = getData(df_push4, 'pushups')\n",
    "df_push5 = getData(df_push5, 'pushups')\n",
    "\n",
    "#Label Data JumpingJacks\n",
    "df_JJ1 = getData(df_JJ1, 'jumpingjacks')\n",
    "df_JJ2 = getData(df_JJ2, 'jumpingjacks')\n",
    "df_JJ3 = getData(df_JJ3, 'jumpingjacks')\n",
    "df_JJ4 = getData(df_JJ4, 'jumpingjacks')\n",
    "df_JJ5 = getData(df_JJ5, 'jumpingjacks')"
   ]
  },
  {
   "cell_type": "code",
   "execution_count": null,
   "metadata": {},
   "outputs": [],
   "source": [
    "#plot json data\n",
    "df_push4.head(10)"
   ]
  },
  {
   "attachments": {},
   "cell_type": "markdown",
   "metadata": {},
   "source": [
    "### 2. Concat Dataframes"
   ]
  },
  {
   "cell_type": "code",
   "execution_count": null,
   "metadata": {},
   "outputs": [],
   "source": [
    "#Concat DataFrames\n",
    "df = pd.concat([df_walk1, df_push1, df_JJ1], axis=0)\n",
    "df_test = pd.concat([df_JJ2, df_push2, df_walk2], axis=0)\n",
    "\n",
    "#Short Df_test for predciton\n",
    "df_test= df_test.head(1517)\n",
    "\n",
    "\n",
    "\n",
    "#Fill NaN Values with propagation\n",
    "df.fillna(method='ffill', inplace=True)\n",
    "df_test.fillna(method='ffill', inplace=True)\n",
    "\n",
    "\n",
    "\n",
    "#kein random split sondern spezifizieren\n",
    "#erste 70% train, letzte 30% test\n",
    "#fünf trainings df und quasi im train nur die ersten 3 und die zwei anderen dann als test"
   ]
  },
  {
   "cell_type": "code",
   "execution_count": null,
   "metadata": {},
   "outputs": [],
   "source": [
    "#drop sensor column\n",
    "df_push4 = df_push4.drop(columns=['sensor'])\n",
    "df_push5 = df_push5.drop(columns=['sensor'])\n",
    "df_JJ3 = df_JJ3.drop(columns=['sensor'])\n",
    "df_JJ4 = df_JJ4.drop(columns=['sensor'])\n",
    "df_JJ5 = df_JJ5.drop(columns=['sensor'])\n",
    "df_walk3 = df_walk3.drop(columns=['sensor'])\n",
    "df_walk4 = df_walk4.drop(columns=['sensor'])\n"
   ]
  },
  {
   "cell_type": "code",
   "execution_count": null,
   "metadata": {},
   "outputs": [],
   "source": [
    "#Concat all Dataframes into one\n",
    "df = pd.concat([df_walk1, df_walk2, df_push1, df_push2, df_push3, df_JJ1, df_JJ2, df_JJ3], axis=0)\n",
    "df_test = pd.concat([df_walk3, df_walk4, df_push4, df_push5, df_JJ4, df_JJ5], axis=0)\n",
    "\n",
    "#Fill NaN Values with propagation\n",
    "df.fillna(method='ffill', inplace=True)\n",
    "df_test.fillna(method='ffill', inplace=True)\n"
   ]
  },
  {
   "cell_type": "code",
   "execution_count": null,
   "metadata": {},
   "outputs": [],
   "source": [
    "print('Test: ', len(df_test))\n",
    "print('Df: ', len(df))\n",
    "\n",
    "df_test.drop(['label'], axis=1, inplace=True)"
   ]
  },
  {
   "attachments": {},
   "cell_type": "markdown",
   "metadata": {},
   "source": [
    "ToDo: Marvin\n",
    "#gemischten Datensatz vlt mal testen, weiß noch nicht genau wie ich den einbauen soll"
   ]
  },
  {
   "cell_type": "code",
   "execution_count": null,
   "metadata": {},
   "outputs": [],
   "source": [
    "#df_test.head(10)\n",
    "df_test.describe()"
   ]
  },
  {
   "attachments": {},
   "cell_type": "markdown",
   "metadata": {},
   "source": [
    "### 3. Split Data"
   ]
  },
  {
   "cell_type": "code",
   "execution_count": null,
   "metadata": {},
   "outputs": [],
   "source": [
    "#Split Data erste 70% train, letzte 30% test\n",
    "X = df.drop(['label'], axis=1)\n",
    "y = df['label']\n",
    "\n",
    "\n",
    "X_train, X_test, y_train, y_test = train_test_split(X, y, shuffle= False, test_size=0.3)"
   ]
  },
  {
   "cell_type": "code",
   "execution_count": null,
   "metadata": {},
   "outputs": [],
   "source": [
    "#Show Training Data\n",
    "def showXTrainingData(data):\n",
    "  print(data.shape)\n",
    "  print(data.columns)\n",
    "  plt.plot(data['z'], color='red', marker='.')#\n",
    "  plt.plot(data['y'], color='blue', marker='.')#\n",
    "  plt.plot(data['x'], color='green', marker='.')#\n",
    "  plt.plot(data['qz'], color='yellow', marker='.')#\n",
    "  plt.plot(data['qy'], color='black', marker='.')#\n",
    "  plt.plot(data['qx'], color='orange', marker='.')#\n",
    "  plt.plot(data['qw'], color='pink', marker='.')#\n",
    "  plt.plot(data['roll'], color='purple', marker='.')#\n",
    "  plt.xlabel('time')\n",
    "  plt.ylabel('x,y,z,qz,qy,qx,qw,roll')\n",
    "  plt.legend(['z', 'y', 'x', 'qz', 'qy', 'qx', 'qw', 'roll'])\n",
    "  plt.title('Train Data')\n",
    "  plt.show()\n",
    "\n",
    "showXTrainingData(X_train)\n"
   ]
  },
  {
   "attachments": {},
   "cell_type": "markdown",
   "metadata": {},
   "source": [
    "### 4. Train Model"
   ]
  },
  {
   "cell_type": "code",
   "execution_count": null,
   "metadata": {},
   "outputs": [],
   "source": [
    "#KNN\n",
    "knn = KNeighborsClassifier(n_neighbors=3, weights='distance')\n",
    "knn.fit(X_train, y_train)\n",
    "\n",
    "#size passt noch nicht, da der ytest mehr data hat als der ypred\n",
    "#shuffle data and then split"
   ]
  },
  {
   "attachments": {},
   "cell_type": "markdown",
   "metadata": {},
   "source": [
    "### 5. Predict"
   ]
  },
  {
   "cell_type": "code",
   "execution_count": null,
   "metadata": {},
   "outputs": [],
   "source": [
    "y_pred = knn.predict(X_test)\n",
    "print(len(y_test))"
   ]
  },
  {
   "attachments": {},
   "cell_type": "markdown",
   "metadata": {},
   "source": [
    "### 6. Evaluate"
   ]
  },
  {
   "cell_type": "code",
   "execution_count": null,
   "metadata": {},
   "outputs": [],
   "source": [
    "#Confusion Matrix\n",
    "cm = confusion_matrix(y_test, y_pred)\n",
    "print('Confusion Matrix: \\n', cm)\n",
    "\n",
    "#Accuracy\n",
    "accuracy = accuracy_score(y_test, y_pred)\n",
    "print('Accuracy: ', accuracy * 100, '%')\n",
    "\n",
    "#Recall\n",
    "recall = recall_score(y_test, y_pred, average='weighted')\n",
    "print('Recall: ', recall * 100, '%')\n"
   ]
  },
  {
   "cell_type": "code",
   "execution_count": null,
   "metadata": {},
   "outputs": [],
   "source": [
    "#Split Data Mixed\n",
    "X_mixed = df_mixed.drop(['label'], axis=1)\n",
    "y_mixed = df_mixed['label']\n",
    "X_train_mixed, X_test_mixed, y_train_mixed, y_test_mixed = train_test_split(X_mixed, y_mixed, test_size=0.3)\n",
    "\n",
    "#KNN\n",
    "knn = KNeighborsClassifier(n_neighbors=3, weights='distance')\n",
    "knn.fit(X_train, y_train)\n",
    "y_pred_mixed = knn.predict(X_test)"
   ]
  },
  {
   "attachments": {},
   "cell_type": "markdown",
   "metadata": {},
   "source": [
    "# Sonstiges"
   ]
  },
  {
   "attachments": {},
   "cell_type": "markdown",
   "metadata": {},
   "source": [
    "**Export Model into Pickle**"
   ]
  },
  {
   "cell_type": "code",
   "execution_count": null,
   "metadata": {},
   "outputs": [],
   "source": [
    "#pickle wird benutzt um das trainierte Modell zu speichern und dann in streamlit zu laden, dort können wir es dann auf den datensatz anwenden\n",
    "pkl.dump(knn, open('knn.pkl', 'wb'))"
   ]
  },
  {
   "attachments": {},
   "cell_type": "markdown",
   "metadata": {},
   "source": [
    "Lösung von ChatGpt, leider nicht so einfach..."
   ]
  },
  {
   "cell_type": "code",
   "execution_count": null,
   "metadata": {},
   "outputs": [],
   "source": [
    "# Daten laden\n",
    "training_data = df.drop(['label'], axis=1)\n",
    "training_labels = df['label']\n",
    "\n",
    "# Sensordaten in eine zweidimensionale Form umwandeln\n",
    "training_data = training_data.reshape(training_data.shape[0], -1)\n",
    "\n",
    "\n",
    "# KNN-Modell erstellen und trainieren\n",
    "knn = KNeighborsClassifier(n_neighbors=3, weights='distance')\n",
    "knn.fit(training_data, training_labels)\n",
    "\n",
    "# Sensordaten für eine neue Instanz\n",
    "new_data = df_test\n",
    "new_data = new_data.reshape(1, -1)\n",
    "\n",
    "# Vorhersage für die neue Instanz\n",
    "prediction = knn.predict([new_data])\n",
    "\n",
    "# Wahrscheinlichkeiten der Vorhersagen\n",
    "probabilities = knn.predict_proba([new_data])\n",
    "\n",
    "# Index der vorhergesagten Klasse\n",
    "predicted_class_index = prediction[0]\n",
    "\n",
    "# Wahrscheinlichkeit der vorhergesagten Klasse\n",
    "predicted_class_probability = probabilities[0][predicted_class_index]\n",
    "\n",
    "# Klassenbezeichnungen\n",
    "class_names = ['Jumping Jacks', 'Pushups', 'Laufen']\n",
    "\n",
    "# Ergebnis ausgeben\n",
    "result = f\"Mit {predicted_class_probability*100:.2f}% Sicherheit hat die Person {class_names[predicted_class_index]} gemacht.\"\n",
    "print(result)\n"
   ]
  }
 ],
 "metadata": {
  "kernelspec": {
   "display_name": "ML4B-App",
   "language": "python",
   "name": "python3"
  },
  "language_info": {
   "codemirror_mode": {
    "name": "ipython",
    "version": 3
   },
   "file_extension": ".py",
   "mimetype": "text/x-python",
   "name": "python",
   "nbconvert_exporter": "python",
   "pygments_lexer": "ipython3",
   "version": "3.10.11"
  },
  "orig_nbformat": 4
 },
 "nbformat": 4,
 "nbformat_minor": 2
}
