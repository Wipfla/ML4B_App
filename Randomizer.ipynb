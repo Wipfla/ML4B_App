{
 "cells": [
  {
   "cell_type": "code",
   "execution_count": null,
   "metadata": {},
   "outputs": [],
   "source": [
    "import streamlit as st\n",
    "import random\n",
    "\n",
    "def get_random_link():\n",
    "    links = ['https://open.spotify.com/playlist/37i9dQZF1DXdxcBWuJkbcy?si=4dc4123542854393', \n",
    "             'https://open.spotify.com/playlist/37i9dQZF1DX9oh43oAzkyx?si=21412c4ac8074a2a', \n",
    "             'https://open.spotify.com/playlist/37i9dQZF1DX36TRAnIL92N?si=dd1b11494a894667', \n",
    "             'https://open.spotify.com/playlist/37i9dQZF1DWUSyphfcc6aL?si=390d5abba5044ba2', \n",
    "             'https://open.spotify.com/playlist/37i9dQZF1DWVceftBh0Ubl?si=9cc75fe8fa21460e', \n",
    "             'https://open.spotify.com/playlist/37i9dQZF1DX0HRj9P7NxeE?si=7d0e961380d84026', \n",
    "             'https://open.spotify.com/playlist/37i9dQZF1DX2SzDYPXnP1a?si=64c87d2fe7a64c52', \n",
    "             'https://open.spotify.com/playlist/37i9dQZF1DXdURFimg6Blm?si=f21546256b094023', \n",
    "             'https://open.spotify.com/playlist/37i9dQZF1EIeLflS1D0w73?si=d7eb2265d3fb4636', \n",
    "             'https://open.spotify.com/playlist/37i9dQZF1EIdy7dVdne3kM?si=b1e59cfd499841e8']\n",
    "    return random.choice(links)\n",
    "\n",
    "def main():\n",
    "    st.title('Random Link Generator')\n",
    "    if st.button('Generate Random Link'):\n",
    "        random_link = get_random_link()\n",
    "        st.markdown(f'Your random link is: [{random_link}]({random_link})')\n",
    "        st.write('Click the button below to go to the link:')\n",
    "        if st.button('Go to Link'):\n",
    "            st.experimental_set_query_params(link=random_link)\n",
    "\n",
    "if __name__ == '__main__':\n",
    "    main()\n",
    "\n"
   ]
  }
 ],
 "metadata": {
  "kernelspec": {
   "display_name": "yeeet",
   "language": "python",
   "name": "python3"
  },
  "language_info": {
   "name": "python",
   "version": "3.10.11"
  },
  "orig_nbformat": 4
 },
 "nbformat": 4,
 "nbformat_minor": 2
}
