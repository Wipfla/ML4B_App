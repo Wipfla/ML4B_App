{
 "cells": [
  {
   "cell_type": "code",
   "execution_count": null,
   "metadata": {},
   "outputs": [],
   "source": [
    "import streamlit as st\n",
    "import random\n",
    "\n",
    "def generate_playlist(category):\n",
    "    if category == \"Walk\":\n",
    "        links = [\"https://open.spotify.com/playlist/37i9dQZF1DXdxcBWuJkbcy?si=4dc4123542854393\", \"https://open.spotify.com/playlist/37i9dQZF1DX9oh43oAzkyx?si=21412c4ac8074a2a\", \"https://open.spotify.com/playlist/37i9dQZF1DX36TRAnIL92N?si=dd1b11494a894667\"]\n",
    "    elif category == \"JumpingJack\":\n",
    "        links = [\"https://open.spotify.com/playlist/37i9dQZF1DWUSyphfcc6aL?si=390d5abba5044ba2\", \"https://open.spotify.com/playlist/37i9dQZF1DWVceftBh0Ubl?si=9cc75fe8fa21460e\", \"https://open.spotify.com/playlist/37i9dQZF1DX0HRj9P7NxeE?si=7d0e961380d84026\"]\n",
    "    elif category == \"PushUp\":\n",
    "        links = [\"https://open.spotify.com/playlist/37i9dQZF1DX2SzDYPXnP1a?si=64c87d2fe7a64c52\", \"https://open.spotify.com/playlist/37i9dQZF1DXdURFimg6Blm?si=f21546256b094023\", \"https://open.spotify.com/playlist/37i9dQZF1EIeLflS1D0w73?si=d7eb2265d3fb4636\"]\n",
    "    else:\n",
    "        links = []\n",
    "\n",
    "    if links:\n",
    "        selected_link = random.choice(links)\n",
    "        return selected_link\n",
    "    else:\n",
    "        return None\n",
    "\n",
    "def main():\n",
    "    st.title(\"Playlist Generator\")\n",
    "    if st.button(\"Find your Playlist\"):\n",
    "            selected_link = generate_playlist(category)\n",
    "            if selected_link:\n",
    "                st.success(\"Playlist generated!\")\n",
    "                st.write(f\"Selected link: {selected_link}\")\n",
    "\n",
    "                if st.button(\"Go to website\"):\n",
    "                    st.write(f\"You will be redirected to {selected_link}\")\n",
    "            else:\n",
    "                st.warning(\"No playlist available for the selected category.\")\n",
    "    \n",
    "\n",
    "if __name__ == \"__main__\":\n",
    "    main()\n"
   ]
  }
 ],
 "metadata": {
  "kernelspec": {
   "display_name": "yeeet",
   "language": "python",
   "name": "python3"
  },
  "language_info": {
   "name": "python",
   "version": "3.10.11"
  },
  "orig_nbformat": 4
 },
 "nbformat": 4,
 "nbformat_minor": 2
}
