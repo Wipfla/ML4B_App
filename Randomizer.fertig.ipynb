{
 "cells": [
  {
   "cell_type": "code",
   "execution_count": null,
   "metadata": {},
   "outputs": [],
   "source": [
    "import streamlit as st\n",
    "import random\n",
    "\n",
    "def generate_playlist(category):\n",
    "    if category == \"Walk\":\n",
    "        links = [\"link1\", \"link2\", \"link3\", \"link4\", \"link5\", \"link6\", \"link7\", \"link8\", \"link9\", \"link10\"]\n",
    "    elif category == \"JumpingJack\":\n",
    "        links = [\"link11\", \"link12\", \"link13\", \"link14\", \"link15\", \"link16\", \"link17\", \"link18\", \"link19\", \"link20\"]\n",
    "    elif category == \"PushUp\":\n",
    "        links = [\"link21\", \"link22\", \"link23\", \"link24\", \"link25\", \"link26\", \"link27\", \"link28\", \"link29\", \"link30\"]\n",
    "    else:\n",
    "        links = []\n",
    "\n",
    "    if links:\n",
    "        selected_link = random.choice(links)\n",
    "        return selected_link\n",
    "    else:\n",
    "        return None\n",
    "\n",
    "def main():\n",
    "    st.title(\"Playlist Generator\")\n",
    "    if st.button(\"Find your Playlist\"):\n",
    "            selected_link = generate_playlist(category)\n",
    "            if selected_link:\n",
    "                st.success(\"Playlist generated!\")\n",
    "                st.write(f\"Selected link: {selected_link}\")\n",
    "\n",
    "                if st.button(\"Go to website\"):\n",
    "                    st.write(f\"You will be redirected to {selected_link}\")\n",
    "            else:\n",
    "                st.warning(\"No playlist available for the selected category.\")\n",
    "    \n",
    "\n",
    "if __name__ == \"__main__\":\n",
    "    main()\n"
   ]
  }
 ],
 "metadata": {
  "language_info": {
   "name": "python"
  },
  "orig_nbformat": 4
 },
 "nbformat": 4,
 "nbformat_minor": 2
}
