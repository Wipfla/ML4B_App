{
 "cells": [
  {
   "cell_type": "code",
   "execution_count": 18,
   "metadata": {},
   "outputs": [
    {
     "ename": "ImportError",
     "evalue": "cannot import name 'getTestDataset' from 'my_functions' (c:\\Users\\marvi\\IdeaProjects\\ML4B_App\\my_functions.py)",
     "output_type": "error",
     "traceback": [
      "\u001b[1;31m---------------------------------------------------------------------------\u001b[0m",
      "\u001b[1;31mImportError\u001b[0m                               Traceback (most recent call last)",
      "Cell \u001b[1;32mIn[18], line 17\u001b[0m\n\u001b[0;32m     14\u001b[0m \u001b[39mfrom\u001b[39;00m \u001b[39msklearn\u001b[39;00m\u001b[39m.\u001b[39;00m\u001b[39mmodel_selection\u001b[39;00m \u001b[39mimport\u001b[39;00m train_test_split\n\u001b[0;32m     15\u001b[0m \u001b[39mfrom\u001b[39;00m \u001b[39msklearn\u001b[39;00m\u001b[39m.\u001b[39;00m\u001b[39mmetrics\u001b[39;00m \u001b[39mimport\u001b[39;00m accuracy_score\n\u001b[1;32m---> 17\u001b[0m \u001b[39mfrom\u001b[39;00m \u001b[39mmy_functions\u001b[39;00m \u001b[39mimport\u001b[39;00m getTestDataset, getSensorData, getMetrics, getMetricsAcc, getMetricsGyr, getMetricsOri\n",
      "\u001b[1;31mImportError\u001b[0m: cannot import name 'getTestDataset' from 'my_functions' (c:\\Users\\marvi\\IdeaProjects\\ML4B_App\\my_functions.py)"
     ]
    }
   ],
   "source": [
    "import pandas as pd\n",
    "import numpy as np\n",
    "import sklearn as sk\n",
    "import matplotlib.pyplot as plt\n",
    "import pickle as pkl\n",
    "import tsfresh as tsf\n",
    "from tsfresh import extract_features\n",
    "from tsfresh.utilities.dataframe_functions import impute\n",
    "\n",
    "#Classification with KNN\n",
    "from sklearn.neighbors import KNeighborsClassifier\n",
    "from sklearn.metrics import confusion_matrix\n",
    "from sklearn.metrics import recall_score\n",
    "from sklearn.model_selection import train_test_split\n",
    "from sklearn.metrics import accuracy_score\n",
    "\n",
    "from my_functions import getSensorData, getMetrics, getMetricsAcc, getMetricsGyr, getMetricsOri\n"
   ]
  },
  {
   "cell_type": "code",
   "execution_count": 19,
   "metadata": {},
   "outputs": [],
   "source": [
    "def getTestDataset(filepath):\n",
    "  df_test = pd.read_json(filepath)\n",
    "  AccTest, GyrTest, OriTest= getSensorData(df_test)\n",
    "  AccTest = getMetricsAcc(AccTest)\n",
    "  GyrTest = getMetricsGyr(GyrTest)\n",
    "  OriTest = getMetricsOri(OriTest)\n",
    "  df_test = pd.concat([AccTest, GyrTest, OriTest], axis=1)\n",
    "  df_test = df_test.loc[:, ~df_test.columns.duplicated()]\n",
    "  return df_test\n"
   ]
  },
  {
   "cell_type": "code",
   "execution_count": 22,
   "metadata": {},
   "outputs": [
    {
     "name": "stderr",
     "output_type": "stream",
     "text": [
      "c:\\Users\\marvi\\IdeaProjects\\ML4B_App\\my_functions.py:10: SettingWithCopyWarning: \n",
      "A value is trying to be set on a copy of a slice from a DataFrame\n",
      "\n",
      "See the caveats in the documentation: https://pandas.pydata.org/pandas-docs/stable/user_guide/indexing.html#returning-a-view-versus-a-copy\n",
      "  df_Acc.dropna(axis=1, how='all', inplace=True)\n",
      "c:\\Users\\marvi\\IdeaProjects\\ML4B_App\\my_functions.py:11: SettingWithCopyWarning: \n",
      "A value is trying to be set on a copy of a slice from a DataFrame\n",
      "\n",
      "See the caveats in the documentation: https://pandas.pydata.org/pandas-docs/stable/user_guide/indexing.html#returning-a-view-versus-a-copy\n",
      "  df_Gyr.dropna(axis=1, how='all', inplace=True)\n",
      "c:\\Users\\marvi\\IdeaProjects\\ML4B_App\\my_functions.py:12: SettingWithCopyWarning: \n",
      "A value is trying to be set on a copy of a slice from a DataFrame\n",
      "\n",
      "See the caveats in the documentation: https://pandas.pydata.org/pandas-docs/stable/user_guide/indexing.html#returning-a-view-versus-a-copy\n",
      "  df_Ori.dropna(axis=1, how='all', inplace=True)\n",
      "c:\\Users\\marvi\\IdeaProjects\\ML4B_App\\my_functions.py:15: SettingWithCopyWarning: \n",
      "A value is trying to be set on a copy of a slice from a DataFrame\n",
      "\n",
      "See the caveats in the documentation: https://pandas.pydata.org/pandas-docs/stable/user_guide/indexing.html#returning-a-view-versus-a-copy\n",
      "  df_Acc.drop(['sensor', 'seconds_elapsed'], axis=1, inplace=True)\n",
      "c:\\Users\\marvi\\IdeaProjects\\ML4B_App\\my_functions.py:16: SettingWithCopyWarning: \n",
      "A value is trying to be set on a copy of a slice from a DataFrame\n",
      "\n",
      "See the caveats in the documentation: https://pandas.pydata.org/pandas-docs/stable/user_guide/indexing.html#returning-a-view-versus-a-copy\n",
      "  df_Gyr.drop(['sensor', 'seconds_elapsed'], axis=1, inplace=True)\n",
      "c:\\Users\\marvi\\IdeaProjects\\ML4B_App\\my_functions.py:17: SettingWithCopyWarning: \n",
      "A value is trying to be set on a copy of a slice from a DataFrame\n",
      "\n",
      "See the caveats in the documentation: https://pandas.pydata.org/pandas-docs/stable/user_guide/indexing.html#returning-a-view-versus-a-copy\n",
      "  df_Ori.drop(['sensor', 'seconds_elapsed'], axis=1, inplace=True)\n"
     ]
    },
    {
     "data": {
      "text/html": [
       "<div>\n",
       "<style scoped>\n",
       "    .dataframe tbody tr th:only-of-type {\n",
       "        vertical-align: middle;\n",
       "    }\n",
       "\n",
       "    .dataframe tbody tr th {\n",
       "        vertical-align: top;\n",
       "    }\n",
       "\n",
       "    .dataframe thead th {\n",
       "        text-align: right;\n",
       "    }\n",
       "</style>\n",
       "<table border=\"1\" class=\"dataframe\">\n",
       "  <thead>\n",
       "    <tr style=\"text-align: right;\">\n",
       "      <th></th>\n",
       "      <th>Acc_mean_z</th>\n",
       "      <th>Acc_sum_z</th>\n",
       "      <th>Acc_var_z</th>\n",
       "      <th>Acc_std_z</th>\n",
       "      <th>Acc_mean_y</th>\n",
       "      <th>Acc_sum_y</th>\n",
       "      <th>Acc_var_y</th>\n",
       "      <th>Acc_std_y</th>\n",
       "      <th>Acc_mean_x</th>\n",
       "      <th>Acc_sum_x</th>\n",
       "      <th>...</th>\n",
       "      <th>var_roll</th>\n",
       "      <th>std_roll</th>\n",
       "      <th>mean_pitch</th>\n",
       "      <th>sum_pitch</th>\n",
       "      <th>var_pitch</th>\n",
       "      <th>std_pitch</th>\n",
       "      <th>mean_yaw</th>\n",
       "      <th>sum_yaw</th>\n",
       "      <th>var_yaw</th>\n",
       "      <th>std_yaw</th>\n",
       "    </tr>\n",
       "  </thead>\n",
       "  <tbody>\n",
       "    <tr>\n",
       "      <th>0</th>\n",
       "      <td>0.41808</td>\n",
       "      <td>1482.92905</td>\n",
       "      <td>6.004254</td>\n",
       "      <td>2.450358</td>\n",
       "      <td>-0.323435</td>\n",
       "      <td>-1147.224135</td>\n",
       "      <td>5.065489</td>\n",
       "      <td>2.250664</td>\n",
       "      <td>0.009482</td>\n",
       "      <td>33.632882</td>\n",
       "      <td>...</td>\n",
       "      <td>0.537066</td>\n",
       "      <td>0.732848</td>\n",
       "      <td>1.088974</td>\n",
       "      <td>3852.790278</td>\n",
       "      <td>0.19509</td>\n",
       "      <td>0.44169</td>\n",
       "      <td>-0.650519</td>\n",
       "      <td>-2301.53632</td>\n",
       "      <td>3.329242</td>\n",
       "      <td>1.824621</td>\n",
       "    </tr>\n",
       "  </tbody>\n",
       "</table>\n",
       "<p>1 rows × 52 columns</p>\n",
       "</div>"
      ],
      "text/plain": [
       "   Acc_mean_z   Acc_sum_z  Acc_var_z  Acc_std_z  Acc_mean_y    Acc_sum_y  \\\n",
       "0     0.41808  1482.92905   6.004254   2.450358   -0.323435 -1147.224135   \n",
       "\n",
       "   Acc_var_y  Acc_std_y  Acc_mean_x  Acc_sum_x  ...  var_roll  std_roll  \\\n",
       "0   5.065489   2.250664    0.009482  33.632882  ...  0.537066  0.732848   \n",
       "\n",
       "   mean_pitch    sum_pitch  var_pitch  std_pitch  mean_yaw     sum_yaw  \\\n",
       "0    1.088974  3852.790278    0.19509    0.44169 -0.650519 -2301.53632   \n",
       "\n",
       "    var_yaw   std_yaw  \n",
       "0  3.329242  1.824621  \n",
       "\n",
       "[1 rows x 52 columns]"
      ]
     },
     "execution_count": 22,
     "metadata": {},
     "output_type": "execute_result"
    }
   ],
   "source": [
    "#read in data\n",
    "metrics = getTestDataset(\"data/Walk2.json\")\n",
    "#add new column for activity\n",
    "#df['activity'] = \"walking\"\n",
    "metrics.head()"
   ]
  },
  {
   "cell_type": "code",
   "execution_count": 24,
   "metadata": {},
   "outputs": [
    {
     "name": "stdout",
     "output_type": "stream",
     "text": [
      "['walking']\n"
     ]
    }
   ],
   "source": [
    "#Load model with pickle\n",
    "model = pkl.load(open('knn.pickle', 'rb'))\n",
    "#Predict\n",
    "prediction = model.predict(metrics)\n",
    "print(prediction)"
   ]
  },
  {
   "cell_type": "code",
   "execution_count": 26,
   "metadata": {},
   "outputs": [
    {
     "name": "stdout",
     "output_type": "stream",
     "text": [
      "walking\n"
     ]
    }
   ],
   "source": [
    "#extract the first element of the array and convert to string\n",
    "prediction = str(prediction[0])\n",
    "print(prediction)"
   ]
  },
  {
   "cell_type": "code",
   "execution_count": null,
   "metadata": {},
   "outputs": [],
   "source": [
    "#Classification with KNN\n",
    "#Function to label the data\n",
    "def getData(data, label):\n",
    "    data['label'] = label\n",
    "    return data\n",
    "\n",
    "#Label Data\n",
    "#Label Data Walk\n",
    "df_walk1 = getData(df_walk1, 'walk')\n",
    "df_walk2 = getData(df_walk2, 'walk')\n",
    "df_walk3 = getData(df_walk3, 'walk')\n",
    "df_walk4 = getData(df_walk4, 'walk')\n",
    "\n",
    "\n",
    "#Label Data PushUps\n",
    "df_push1 = getData(df_push1, 'pushups')\n",
    "df_push2 = getData(df_push2, 'pushups')\n",
    "df_push3 = getData(df_push3, 'pushups')\n",
    "df_push4 = getData(df_push4, 'pushups')\n",
    "df_push5 = getData(df_push5, 'pushups')\n",
    "\n",
    "#Label Data JumpingJacks\n",
    "df_JJ1 = getData(df_JJ1, 'jumpingjacks')\n",
    "df_JJ2 = getData(df_JJ2, 'jumpingjacks')\n",
    "df_JJ3 = getData(df_JJ3, 'jumpingjacks')\n",
    "df_JJ4 = getData(df_JJ4, 'jumpingjacks')\n",
    "df_JJ5 = getData(df_JJ5, 'jumpingjacks')"
   ]
  },
  {
   "attachments": {},
   "cell_type": "markdown",
   "metadata": {},
   "source": [
    "### Define Functions"
   ]
  },
  {
   "cell_type": "code",
   "execution_count": null,
   "metadata": {},
   "outputs": [],
   "source": [
    "def loadDataFrames(name, pathAcc, pathGyr, pathOri):\n",
    "    df_Acc= pd.read_csv(pathAcc)\n",
    "    df_Gyr= pd.read_csv(pathGyr)\n",
    "    df_Ori= pd.read_csv(pathOri)\n",
    "    print(\"Data Frames for \" + name + \" loaded.\")\n",
    "    return df_Acc, df_Gyr, df_Ori\n",
    "\n",
    "def loadJsonData(name, pathJson):\n",
    "    df = pd.read_json(pathJson)\n",
    "    print(\"Data Frame for \" + name + \" loaded.\")\n",
    "    return df\t   \n",
    "\n",
    "#Concat Funktion\n",
    "def concatDataFrames(name, df_Acc, df_Gyr, df_Ori):\n",
    "  df_Gyr.drop(['time','seconds_elapsed'], axis=1, inplace=True)\n",
    "  df_Ori.drop(['time','seconds_elapsed'], axis=1, inplace=True)\n",
    "  df = pd.concat([df_Acc, df_Gyr, df_Ori], axis=1)\n",
    "  print(\"Data Frames for \" + name + \" concatenated.\")\n",
    "  return df\n",
    "\n",
    "#Function to plot Gyr Data\n",
    "def plotDataGyr(data, title):\n",
    "    plt.plot(data['time'], data['z'], color='red', marker='.')\n",
    "    plt.plot(data['time'], data['y'], color='blue', marker='.')\n",
    "    plt.plot(data['time'], data['x'], color='green', marker='.')\n",
    "    plt.xlabel('time')\n",
    "    plt.ylabel('x,y,z')\n",
    "    plt.legend(['z', 'y', 'x'])\n",
    "    plt.title(title)\n",
    "    plt.show()\n",
    "\n",
    "#Function to Plot Acc Data\n",
    "def plotDataAcc(data, title):\n",
    "    plt.plot(data['time'], data['z'], color='red', marker='.')\n",
    "    plt.plot(data['time'], data['y'], color='blue', marker='.')\n",
    "    plt.plot(data['time'], data['x'], color='green', marker='.')\n",
    "    plt.xlabel('time')\n",
    "    plt.ylabel('x,y,z')\n",
    "    plt.legend(['z', 'y', 'x'])\n",
    "    plt.title(title)\n",
    "    plt.show()\n",
    "\n",
    "#Function to Plot Ori Data\n",
    "def plotDataOri(data, title):\n",
    "    plt.plot(data['time'], data['qz'], color='red', marker='.')\n",
    "    plt.plot(data['time'], data['qy'], color='blue', marker='.')\n",
    "    plt.plot(data['time'], data['qx'], color='green', marker='.')\n",
    "    plt.plot(data['time'], data['qw'], color='yellow', marker='.')\n",
    "    #plt.plot(data['time'], data['roll'], color='black', marker='.')\n",
    "    plt.xlabel('time')\n",
    "    plt.ylabel('qz,qy,qx,qw,roll')\n",
    "    plt.legend(['qz', 'qy', 'qx', 'qw', 'roll'])\n",
    "    plt.title(title)\n",
    "    plt.show()\n",
    "\n",
    "#Clean unused Sensors\n",
    "def deleteSensorData(df):\n",
    "  notUsedSensors = ['Annotation', 'Barometer', 'Battery', 'Brightness', 'Gravity', 'Light', 'Location', 'Magnetometer', 'MagnetometerUncalibrated', 'Microphone']\n",
    "  df = df[~df['sensor'].isin(notUsedSensors)]\n",
    "  return df\n",
    "\n",
    "\n",
    "#Clean Function Json Data\n",
    "def cleanDataJson(df):\n",
    "    #Drop unused Columns\n",
    "    columns_to_drop = ['sensors', 'version','device name','recording time','platform','appVersion', 'device id', 'sampleRateMs','relativeAltitude','pressure', 'batteryLevel', 'batteryState', 'lowPowerMode','brightness', 'lux', 'bearingAccuracy', 'speedAccuracy', 'verticalAccuracy', 'horizontalAccuracy', 'speed', 'bearing','altitude', 'longitude', 'latitude']\n",
    "    columns_to_drop = list(set(columns_to_drop).intersection(df.columns))\n",
    "\n",
    "    if columns_to_drop:\n",
    "        df.drop(columns=columns_to_drop, inplace=True)\n",
    "        print(\"Spalten wurden erfolgreich entfernt.\")\n",
    "    else:\n",
    "        print(\"Keine der Spalten zum Entfernen gefunden.\")\n",
    "        #df.drop(['version','device name','recording time','platform','appVersion', 'device id', 'sampleRateMs' ], axis=1, inplace=True)\n",
    "    return df\n",
    "\n",
    "\n",
    "#Function to get Accelometer, Gyroscope and Orientation Data from Json in one Dataframe each\n",
    "def getSensorData(df):\n",
    "    df_Acc = df[df['sensor'] == 'Accelerometer']\n",
    "    df_Gyr = df[df['sensor'] == 'Gyroscope']\n",
    "    df_Ori = df[df['sensor'] == 'Orientation']\n",
    "  #Drop all Columns with NaN Values\n",
    "    df_Acc.dropna(axis=1, how='all', inplace=True)\n",
    "    df_Gyr.dropna(axis=1, how='all', inplace=True)\n",
    "    df_Ori.dropna(axis=1, how='all', inplace=True)\n",
    "\n",
    "  #Drop sensor column\n",
    "    df_Acc.drop(['sensor', 'seconds_elapsed'], axis=1, inplace=True)\n",
    "    df_Gyr.drop(['sensor', 'seconds_elapsed'], axis=1, inplace=True)\n",
    "    df_Ori.drop(['sensor', 'seconds_elapsed'], axis=1, inplace=True)\n",
    "    \n",
    "\n",
    "    return df_Acc, df_Gyr, df_Ori\n",
    "\n"
   ]
  },
  {
   "attachments": {},
   "cell_type": "markdown",
   "metadata": {},
   "source": [
    "### Load Data and give them a name"
   ]
  },
  {
   "cell_type": "code",
   "execution_count": null,
   "metadata": {},
   "outputs": [],
   "source": [
    "#load mixed data\n",
    "df_mixed_Acc, df_mixed_Gyr, df_mixed_Ori =loadDataFrames('mixed','data/MixedData/Accelerometer.csv', 'data/MixedData/Gyroscope.csv', 'data/MixedData/Orientation.csv')\n",
    "\n",
    "##############################################################################################################\n",
    "\n",
    "#load data frames for walking\n",
    "df_walk1 = loadJsonData('walking 1', 'data/NormalWalk/NormalWalk.json')\n",
    "\n",
    "#load data walk2\n",
    "df_walk2 = loadJsonData('walking 2', 'data/Walk2/Walk2.json')\n",
    "\n",
    "#load data walk3 Alex\n",
    "df_walk3 = loadJsonData('walking 3', 'data\\Alex_Rumstehen_-2023-05-02_15-30-58.json')\n",
    "\n",
    "#load data walk4 Alex\n",
    "df_walk4 = loadJsonData('walking 4', 'data\\Alex_Rumstehen_2-2023-05-23_14-53-09.json')\n",
    "\n",
    "\n",
    "##############################################################################################################\n",
    "\n",
    "#load data frames for push ups\n",
    "df_push1 = loadJsonData('push ups 1', 'data/PushUps/PushUps.json')\n",
    "\n",
    "#load data pushups2\n",
    "df_push2 = loadJsonData('push ups 2', 'data/PushUps2/PushUps2.json')\n",
    "\n",
    "#load data pushups3 Alex\n",
    "df_push3 = loadJsonData('push ups 3', 'data/Alex_Push_Up_2-2023-05-23_15-04-54.json')\n",
    "\n",
    "#load data pushups4 Alex\n",
    "df_push4 = loadJsonData('push ups 4', 'data\\Alex_10_Liegestütz-2023-05-02_15-29-25.json')\n",
    "\n",
    "#load data pushups5 Pierre\n",
    "df_push5 = loadJsonData('push ups 5', 'data\\PushUps-pierre.json')\n",
    "\n",
    "##############################################################################################################\n",
    "\n",
    "#load data frames for jumping jacks\n",
    "df_JJ1 = loadJsonData('jumping jacks 1', 'data/JJ_rightHand/JJ1.json')\n",
    "\n",
    "#load data JJ2\n",
    "df_JJ2 = loadJsonData('jumping jacks 2', 'data/JJ2/JJ2.json')\n",
    "\n",
    "#load data JJ3 Alex\n",
    "df_JJ3 = loadJsonData('jumping jacks 3', 'data/Alex_10_Hampelmänner-2023-05-02_15-30-18.json')\n",
    "\n",
    "#load data JJ4 Pierre\n",
    "df_JJ4 = loadJsonData('jumping jacks 4', 'data/JumpingsJacks-pierre-1.json')\n",
    "\n",
    "#load data JJ5 Pierre\n",
    "df_JJ5 = loadJsonData('jumping jacks 5', 'data/JumpingsJacks-pierre-2.json')"
   ]
  },
  {
   "cell_type": "code",
   "execution_count": null,
   "metadata": {},
   "outputs": [],
   "source": [
    "def df2_klassifizieren (\n",
    "    df2: pd.DataFrame,\n",
    "    sensor: str,\n",
    "    schwellwert: float\n",
    ") -> pd.DataFrame:\n",
    "    \"\"\"Klassifiziert die Daten des gegebenen Sensors in 'normal' und 'anomal'.\"\"\"\n",
    "    # Kopie des DataFrames erstellen\n",
    "    df2_klassifiziert = df2.copy()\n",
    "    # Spalte 'klassifikation' mit dem Wert 'normal' erstellen\n",
    "    df2_klassifiziert['klassifikation'] = 'normal'\n",
    "    # Alle Werte, die den Schwellwert überschreiten, als 'anomal' klassifizieren\n",
    "    df2_klassifiziert.loc[df2_klassifiziert['value'] > schwellwert, 'klassifikation'] = 'anomal'\n",
    "    # Klassifizierten DataFrame zurückgeben\n",
    "    return df2_klassifiziert\n"
   ]
  },
  {
   "cell_type": "code",
   "execution_count": null,
   "metadata": {},
   "outputs": [],
   "source": [
    "#iterieren über alldf mit der funktioin cleandatajson\n",
    "for df in allDf:\n",
    "    df = cleanDataJson(df)"
   ]
  },
  {
   "cell_type": "code",
   "execution_count": null,
   "metadata": {},
   "outputs": [],
   "source": [
    "#Show Training Data\n",
    "def showXTrainingData(data):\n",
    "  print(data.shape)\n",
    "  print(data.columns)\n",
    "  plt.plot(data['z'], color='red', marker='.')#\n",
    "  plt.plot(data['y'], color='blue', marker='.')#\n",
    "  plt.plot(data['x'], color='green', marker='.')#\n",
    "  plt.plot(data['qz'], color='yellow', marker='.')#\n",
    "  plt.plot(data['qy'], color='black', marker='.')#\n",
    "  plt.plot(data['qx'], color='orange', marker='.')#\n",
    "  plt.plot(data['qw'], color='pink', marker='.')#\n",
    "  plt.plot(data['roll'], color='purple', marker='.')#\n",
    "  plt.xlabel('time')\n",
    "  plt.ylabel('x,y,z,qz,qy,qx,qw,roll')\n",
    "  plt.legend(['z', 'y', 'x', 'qz', 'qy', 'qx', 'qw', 'roll'])\n",
    "  plt.title('Train Data')\n",
    "  plt.show()\n",
    "\n",
    "showXTrainingData(X_train)\n"
   ]
  },
  {
   "cell_type": "code",
   "execution_count": null,
   "metadata": {},
   "outputs": [],
   "source": []
  },
  {
   "cell_type": "code",
   "execution_count": null,
   "metadata": {},
   "outputs": [],
   "source": [
    "#Concat DataFrames\n",
    "df = pd.concat([df_walk1, df_push1, df_JJ1], axis=0)\n",
    "df_test = pd.concat([df_JJ2, df_push2, df_walk2], axis=0)\n",
    "\n",
    "#Short Df_test for predciton\n",
    "df_test= df_test.head(1517)\n",
    "\n",
    "\n",
    "\n",
    "#Fill NaN Values with propagation\n",
    "df.fillna(method='ffill', inplace=True)\n",
    "df_test.fillna(method='ffill', inplace=True)\n",
    "\n",
    "\n",
    "\n",
    "#kein random split sondern spezifizieren\n",
    "#erste 70% train, letzte 30% test\n",
    "#fünf trainings df und quasi im train nur die ersten 3 und die zwei anderen dann als test"
   ]
  },
  {
   "cell_type": "code",
   "execution_count": null,
   "metadata": {},
   "outputs": [],
   "source": [
    "#Concat all Dataframes into one\n",
    "df = pd.concat([df_walk1, df_walk2, df_push1, df_push2, df_push3, df_JJ1, df_JJ2, df_JJ3], axis=0)\n",
    "df_test = pd.concat([df_walk3, df_walk4, df_push4, df_push5, df_JJ4, df_JJ5], axis=0)"
   ]
  },
  {
   "cell_type": "code",
   "execution_count": null,
   "metadata": {},
   "outputs": [],
   "source": [
    "#Fill NaN Values with propagation\n",
    "df.fillna(method='bfill', inplace=True)\n",
    "df_test.fillna(method='bfill', inplace=True)"
   ]
  },
  {
   "cell_type": "code",
   "execution_count": null,
   "metadata": {},
   "outputs": [],
   "source": [
    "df.head(10)"
   ]
  },
  {
   "cell_type": "code",
   "execution_count": null,
   "metadata": {},
   "outputs": [],
   "source": [
    "print('Test: ', len(df_test))\n",
    "print('Df: ', len(df))\n",
    "\n",
    "df_test.drop(['label'], axis=1, inplace=True)"
   ]
  },
  {
   "cell_type": "code",
   "execution_count": null,
   "metadata": {},
   "outputs": [],
   "source": [
    "#df_test.head(10)\n",
    "df_test.describe()"
   ]
  },
  {
   "attachments": {},
   "cell_type": "markdown",
   "metadata": {},
   "source": [
    "# Sonstiges"
   ]
  },
  {
   "cell_type": "code",
   "execution_count": null,
   "metadata": {},
   "outputs": [],
   "source": [
    "#take the uploaded file and load it into a dataframe and then apply the model to it\n",
    "#df = pd.read_csv('uploaded_file.csv')\n",
    "#model = pickle.load(open('knn.pkl', 'rb'))\n",
    "#model.predict(df)\n"
   ]
  },
  {
   "attachments": {},
   "cell_type": "markdown",
   "metadata": {},
   "source": [
    "Lösung von ChatGpt, leider nicht so einfach..."
   ]
  },
  {
   "cell_type": "code",
   "execution_count": null,
   "metadata": {},
   "outputs": [],
   "source": [
    "# Daten laden\n",
    "training_data = df.drop(['label'], axis=1)\n",
    "training_labels = df['label']\n",
    "\n",
    "# Sensordaten in eine zweidimensionale Form umwandeln\n",
    "training_data = training_data.reshape(training_data.shape[0], -1)\n",
    "\n",
    "\n",
    "# KNN-Modell erstellen und trainieren\n",
    "knn = KNeighborsClassifier(n_neighbors=3, weights='distance')\n",
    "knn.fit(training_data, training_labels)\n",
    "\n",
    "# Sensordaten für eine neue Instanz\n",
    "new_data = df_test\n",
    "new_data = new_data.reshape(1, -1)\n",
    "\n",
    "# Vorhersage für die neue Instanz\n",
    "prediction = knn.predict([new_data])\n",
    "\n",
    "# Wahrscheinlichkeiten der Vorhersagen\n",
    "probabilities = knn.predict_proba([new_data])\n",
    "\n",
    "# Index der vorhergesagten Klasse\n",
    "predicted_class_index = prediction[0]\n",
    "\n",
    "# Wahrscheinlichkeit der vorhergesagten Klasse\n",
    "predicted_class_probability = probabilities[0][predicted_class_index]\n",
    "\n",
    "# Klassenbezeichnungen\n",
    "class_names = ['Jumping Jacks', 'Pushups', 'Laufen']\n",
    "\n",
    "# Ergebnis ausgeben\n",
    "result = f\"Mit {predicted_class_probability*100:.2f}% Sicherheit hat die Person {class_names[predicted_class_index]} gemacht.\"\n",
    "print(result)\n"
   ]
  }
 ],
 "metadata": {
  "kernelspec": {
   "display_name": "Python 3 (ipykernel)",
   "language": "python",
   "name": "python3"
  },
  "language_info": {
   "codemirror_mode": {
    "name": "ipython",
    "version": 3
   },
   "file_extension": ".py",
   "mimetype": "text/x-python",
   "name": "python",
   "nbconvert_exporter": "python",
   "pygments_lexer": "ipython3",
   "version": "3.10.11"
  }
 },
 "nbformat": 4,
 "nbformat_minor": 4
}
