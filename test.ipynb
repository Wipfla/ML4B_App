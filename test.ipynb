{
 "cells": [
  {
   "cell_type": "code",

   "execution_count": 1,
   "metadata": {},
   "outputs": [],
   "source": [
    "import pandas as pd\n",
    "import sklearn as sk\n",
    "import numpy as np\n",
    "import json"
   ]
  },
  {
   "cell_type": "code",
   "execution_count": null,
   "metadata": {},
   "outputs": [],
   "source": [
    "df2 = pd.read_json('data/data2/data2.json')"
   ]
  },
  {
   "cell_type": "code",
   "execution_count": null,
   "metadata": {},
   "outputs": [
    {
     "data": {
      "text/plain": [
       "array(['Accelerometer', 'Barometer', 'Battery', 'Brightness', 'Gravity',\n",
       "       'Gyroscope', 'Light', 'Location', 'Magnetometer', 'Metadata',\n",
       "       'Orientation'], dtype=object)"
      ]
     },
     "execution_count": 10,
     "metadata": {},
     "output_type": "execute_result"
    }
   ],
   "source": [
    "#show first five rows of df\n",
    "df2.head()"
   ]
  },
  {
   "cell_type": "code",
   "execution_count": null,
   "metadata": {},
   "outputs": [
    {
     "data": {
      "text/plain": [
       "array(['Accelerometer', 'Barometer', 'Battery', 'Brightness', 'Gravity',\n",
       "       'Gyroscope', 'Light', 'Location', 'Magnetometer', 'Metadata',\n",
       "       'Orientation'], dtype=object)"
      ]
     },
     "execution_count": 11,
     "metadata": {},
     "output_type": "execute_result"
    }
   ],
   "source": [
    "#what sensors are in the dataset?\n",
    "df2['sensor'].unique()"
   ]
  },
  {
   "cell_type": "code",
   "execution_count": 7,
   "metadata": {},
   "outputs": [
    {
     "data": {
      "text/plain": [
       "Index(['sensor', 'time', 'seconds_elapsed', 'z', 'y', 'x', 'relativeAltitude',\n",
       "       'pressure', 'batteryLevel', 'batteryState', 'lowPowerMode',\n",
       "       'brightness', 'lux', 'bearingAccuracy', 'speedAccuracy',\n",
       "       'verticalAccuracy', 'horizontalAccuracy', 'speed', 'bearing',\n",
       "       'altitude', 'longitude', 'latitude', 'version', 'device name',\n",
       "       'recording time', 'platform', 'appVersion', 'device id', 'sensors',\n",
       "       'sampleRateMs', 'qz', 'qy', 'qx', 'qw', 'roll', 'pitch', 'yaw'],\n",
       "      dtype='object')"
      ]
     },
     "execution_count": 7,
     "metadata": {},
     "output_type": "execute_result"
    }
   ],
   "source": [
    "#show columns of df\n",
    "df2.columns"
   ]
  },
  {
   "cell_type": "code",
   "execution_count": 12,
   "metadata": {},
   "outputs": [],
   "source": [
    "grouped = df2.groupby(by='sensor')\n"
   ]
  },
  {
   "cell_type": "code",
   "execution_count": 19,
   "metadata": {},
   "outputs": [],
   "source": [
    "#dröselt das json in einzelne CSV datein auf und speichert diese\n",
    "for sensor, group in grouped:\n",
    "    sensor_df = pd.DataFrame(group)\n",
    "    # Speichert das DataFrame für den aktuellen Sensor in eine CSV-Datei\n",
    "    sensor_df.to_csv(f'Data2_{sensor}_data.csv', index=False)"
   ]
  },
  {
   "cell_type": "code",
   "execution_count": 4,
   "metadata": {},
   "outputs": [],
   "source": [
    "def df2_klassifizieren (\n",
    "    df2: pd.DataFrame,\n",
    "    sensor: str,\n",
    "    schwellwert: float\n",
    ") -> pd.DataFrame:\n",
    "    \"\"\"Klassifiziert die Daten des gegebenen Sensors in 'normal' und 'anomal'.\"\"\"\n",
    "    # Kopie des DataFrames erstellen\n",
    "    df2_klassifiziert = df2.copy()\n",
    "    # Spalte 'klassifikation' mit dem Wert 'normal' erstellen\n",
    "    df2_klassifiziert['klassifikation'] = 'normal'\n",
    "    # Alle Werte, die den Schwellwert überschreiten, als 'anomal' klassifizieren\n",
    "    df2_klassifiziert.loc[df2_klassifiziert['value'] > schwellwert, 'klassifikation'] = 'anomal'\n",
    "    # Klassifizierten DataFrame zurückgeben\n",
    "    return df2_klassifiziert\n"
   ]
  },
  {
   "cell_type": "code",
   "execution_count": null,
   "metadata": {},
   "outputs": [],
   "source": []
  }
 ],
 "metadata": {
  "kernelspec": {
   "display_name": "Python 3 (ipykernel)",
   "language": "python",
   "name": "python3"
  },
  "language_info": {
   "codemirror_mode": {
    "name": "ipython",
    "version": 3
   },
   "file_extension": ".py",
   "mimetype": "text/x-python",
   "name": "python",
   "nbconvert_exporter": "python",
   "pygments_lexer": "ipython3",
   "version": "3.10.11"
  }
 },
 "nbformat": 4,
 "nbformat_minor": 4
}
