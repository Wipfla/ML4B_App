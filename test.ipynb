{
 "cells": [
  {
   "cell_type": "code",
   "execution_count": 4,
   "metadata": {},
   "outputs": [],
   "source": [
    "import pandas as pd\n",
    "#import streamlit as st\n",
    "import sklearn as sk\n",
    "import numpy as np\n",
    "import json\n",
    "\n",
    "#st.title('Test App')\n"
   ]
  },
  {
   "cell_type": "code",
   "execution_count": 5,
   "metadata": {},
   "outputs": [],
   "source": [
    "df2 = pd.read_json('data/data2/data2.json')"
   ]
  },
  {
   "cell_type": "code",
   "execution_count": 10,
   "metadata": {},
   "outputs": [
    {
     "data": {
      "text/plain": [
       "array(['Accelerometer', 'Barometer', 'Battery', 'Brightness', 'Gravity',\n",
       "       'Gyroscope', 'Light', 'Location', 'Magnetometer', 'Metadata',\n",
       "       'Orientation'], dtype=object)"
      ]
     },
     "execution_count": 10,
     "metadata": {},
     "output_type": "execute_result"
    }
   ],
   "source": [
    "#show first five rows of df\n",
    "df2.head()"
   ]
  },
  {
   "cell_type": "code",
   "execution_count": 11,
   "metadata": {},
   "outputs": [
    {
     "data": {
      "text/plain": [
       "array(['Accelerometer', 'Barometer', 'Battery', 'Brightness', 'Gravity',\n",
       "       'Gyroscope', 'Light', 'Location', 'Magnetometer', 'Metadata',\n",
       "       'Orientation'], dtype=object)"
      ]
     },
     "execution_count": 11,
     "metadata": {},
     "output_type": "execute_result"
    }
   ],
   "source": [
    "#what sensors are in the dataset?\n",
    "df2['sensor'].unique()"
   ]
  },
  {
   "cell_type": "code",
   "execution_count": 7,
   "metadata": {},
   "outputs": [
    {
     "data": {
      "text/plain": [
       "Index(['sensor', 'time', 'seconds_elapsed', 'z', 'y', 'x', 'relativeAltitude',\n",
       "       'pressure', 'batteryLevel', 'batteryState', 'lowPowerMode',\n",
       "       'brightness', 'lux', 'bearingAccuracy', 'speedAccuracy',\n",
       "       'verticalAccuracy', 'horizontalAccuracy', 'speed', 'bearing',\n",
       "       'altitude', 'longitude', 'latitude', 'version', 'device name',\n",
       "       'recording time', 'platform', 'appVersion', 'device id', 'sensors',\n",
       "       'sampleRateMs', 'qz', 'qy', 'qx', 'qw', 'roll', 'pitch', 'yaw'],\n",
       "      dtype='object')"
      ]
     },
     "execution_count": 7,
     "metadata": {},
     "output_type": "execute_result"
    }
   ],
   "source": [
    "#show columns of df\n",
    "df2.columns"
   ]
  },
  {
   "cell_type": "code",
   "execution_count": 12,
   "metadata": {},
   "outputs": [],
   "source": [
    "grouped = df2.groupby(by='sensor')\n"
   ]
  },
  {
   "cell_type": "code",
   "execution_count": 19,
   "metadata": {},
   "outputs": [],
   "source": [
    "#dröselt das json in einzelne CSV datein auf und speichert diese\n",
    "for sensor, group in grouped:\n",
    "    sensor_df = pd.DataFrame(group)\n",
    "    # Speichern Sie das DataFrame für den aktuellen Sensor in eine CSV-Datei\n",
    "    sensor_df.to_csv(f'Data2_{sensor}_data.csv', index=False)"
   ]
  },
  {
   "cell_type": "code",
   "execution_count": null,
   "metadata": {},
   "outputs": [],
   "source": []
  }
 ],
 "metadata": {
  "kernelspec": {
   "display_name": "Python 3 (ipykernel)",
   "language": "python",
   "name": "python3"
  },
  "language_info": {
   "codemirror_mode": {
    "name": "ipython",
    "version": 3
   },
   "file_extension": ".py",
   "mimetype": "text/x-python",
   "name": "python",
   "nbconvert_exporter": "python",
   "pygments_lexer": "ipython3",
   "version": "3.10.9"
  }
 },
 "nbformat": 4,
 "nbformat_minor": 4
}
